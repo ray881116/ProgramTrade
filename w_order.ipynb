{
 "cells": [
  {
   "cell_type": "code",
   "execution_count": 1,
   "metadata": {},
   "outputs": [
    {
     "name": "stdout",
     "output_type": "stream",
     "text": [
      "輸入成功!\n"
     ]
    }
   ],
   "source": [
    "import time\n",
    "import sqlite3\n",
    "import requests\n",
    "import datetime\n",
    "import pandas as pd\n",
    "import shioaji as sj\n",
    "from shioaji import TickFOPv1, Exchange\n",
    "from exchange_calendars import get_calendar\n",
    "import mplfinance as mpf\n",
    "import talib\n",
    "\n",
    "from FuncBase import *"
   ]
  },
  {
   "cell_type": "code",
   "execution_count": 2,
   "metadata": {},
   "outputs": [
    {
     "name": "stdout",
     "output_type": "stream",
     "text": [
      "Response Code: 0 | Event Code: 0 | Info: host '203.66.91.161:80', hostname '203.66.91.161:80' IP 203.66.91.161:80 (host 1 of 1) (host connection attempt 1 of 1) (total connection attempt 1 of 1) | Event: Session up\n"
     ]
    },
    {
     "name": "stdout",
     "output_type": "stream",
     "text": [
      "<SecurityType.Index: 'IND'> fetch done\n",
      "<SecurityType.Future: 'FUT'> fetch done\n"
     ]
    }
   ],
   "source": [
    "import os \n",
    "import shioaji as sj\n",
    "from dotenv import load_dotenv\n",
    "\n",
    "#永豐金API登入\n",
    "load_dotenv()\n",
    "api = sj.Shioaji(simulation=True)\n",
    "api.login(os.getenv('YOUR_PERSON_ID'),os.getenv('YOUR_PASSWORD'),\n",
    "    contracts_cb= lambda security_type: print(f\"{repr(security_type)} fetch done\"))\n",
    "\n",
    "#連結DB Browser\n",
    "connection = sqlite3.connect('work_data.db')"
   ]
  },
  {
   "cell_type": "code",
   "execution_count": 3,
   "metadata": {},
   "outputs": [],
   "source": [
    "open_orders = {}\n",
    "order_qty = {}\n",
    "positions = {}"
   ]
  },
  {
   "cell_type": "code",
   "execution_count": 4,
   "metadata": {},
   "outputs": [],
   "source": [
    "def place_cb(stat, msg):\n",
    "\n",
    "    print('stat', stat)\n",
    "    print('msg', msg)\n",
    "    #'TFTDEAL' 下單成功\n",
    "    if stat.value == 'TFTDEAL':\n",
    "\n",
    "        code = msg['code']\n",
    "        qty = int(msg['quantity'])\n",
    "                \n",
    "        order_qty[code] -= qty #扣除下單時委託張數\n",
    "\n",
    "        if order_qty[code] == 0:\n",
    "            open_orders = None\n",
    "\n",
    "        position = positions.get(code,0)\n",
    "\n",
    "        if msg['action'] == 'Sell':\n",
    "            qty = qty * -1\n",
    "\n",
    "        position += qty\n",
    "\n",
    "        positions[code] = position\n",
    "    \n",
    "api.set_order_callback(place_cb)\n"
   ]
  },
  {
   "cell_type": "markdown",
   "metadata": {},
   "source": [
    "Buy order"
   ]
  },
  {
   "cell_type": "code",
   "execution_count": null,
   "metadata": {},
   "outputs": [],
   "source": [
    "code = 'TXF202410'\n",
    "codes = 'TXF'\n",
    "current_price = 22782\n",
    "qty = 1\n",
    "\n",
    "contract = api.Contracts.Futures.get(codes)[code]\n",
    "\n",
    "order = api.Order(\n",
    "                  action=sj.constant.Action.Buy, \n",
    "                  price=current_price,\n",
    "                  quantity=qty,\n",
    "                  price_type=\"LMT\",\n",
    "                  order_type=\"ROD\",\n",
    "                  octype=sj.constant.FuturesOCType.Auto,\n",
    "                  account=api.futopt_account)\n",
    "\n",
    "trade = api.place_order(contract, order)\n",
    "\n",
    "open_orders[code] = trade\n",
    "order_qty[code] = qty\n",
    "\n",
    "print(open_orders)\n",
    "print(order_qty)\n",
    "print(positions)"
   ]
  },
  {
   "cell_type": "markdown",
   "metadata": {},
   "source": [
    "Sell order"
   ]
  },
  {
   "cell_type": "code",
   "execution_count": null,
   "metadata": {},
   "outputs": [],
   "source": [
    "code = 'TXF202410'\n",
    "codes = 'TXF'\n",
    "current_price = 22782\n",
    "position = positions.get(code, 0)\n",
    "\n",
    "contract = api.Contracts.Futures.get(codes)[code]\n",
    "\n",
    "order = api.Order(\n",
    "                  action=sj.constant.Action.Sell, \n",
    "                  price=current_price,\n",
    "                  quantity=positions,\n",
    "                  price_type=\"LMT\",\n",
    "                  order_type=\"ROD\",\n",
    "                  octype=sj.constant.FuturesOCType.Auto,\n",
    "                  account=api.futopt_account)\n",
    "\n",
    "trade = api.place_order(contract, order)\n",
    "\n",
    "open_orders[code] = trade\n",
    "order_qty[code] = positions\n",
    "\n",
    "print(open_orders)\n",
    "print(order_qty)\n",
    "print(positions)"
   ]
  },
  {
   "cell_type": "markdown",
   "metadata": {},
   "source": [
    "整合"
   ]
  },
  {
   "cell_type": "code",
   "execution_count": 5,
   "metadata": {},
   "outputs": [],
   "source": [
    "ticks = {}\n",
    "kbars = {}\n",
    "volume_today = {}\n",
    "\n",
    "open_orders = {}\n",
    "order_qty = {}\n",
    "positions = {}\n",
    "\n",
    "#設定callback 回傳資料型態\n",
    "@api.on_tick_fop_v1()\n",
    "def quote_callback(exchange: Exchange, tick: TickFOPv1):\n",
    "\n",
    "    #full_code = msg['content'][0]  # 假設這是完整的商品代號\n",
    "    #code = full_code[:3] \n",
    "\n",
    "    ts = pd.to_datetime(tick.datetime)\n",
    "\n",
    "    if tick.code[0].isalpha():\n",
    "        code = tick.code[0:3]\n",
    "    else:\n",
    "        code = tick.code\n",
    "\n",
    "    ts = pd.to_datetime(tick.datetime)\n",
    "\n",
    "    if 5 < ts.hour < 9:\n",
    "        return\n",
    "    \n",
    "    close = float(tick.close)\n",
    "    volume = tick.volume\n",
    "    vol_sum = tick.total_volume\n",
    "\n",
    "    \n",
    "    ticks[code].loc[ts] = [close, volume]\n",
    "    volume_today[code] = vol_sum\n",
    "\n",
    "def place_cb(stat, msg):\n",
    "\n",
    "    if stat.value == 'TFTDEAL':\n",
    "\n",
    "        code = msg['code']\n",
    "        qty = int(msg['quantity'])\n",
    "                \n",
    "        order_qty[code] -= qty #扣除下單時委託張數\n",
    "\n",
    "        if order_qty[code] == 0:\n",
    "            open_orders = None #委託張數歸0\n",
    "\n",
    "        position = positions.get(code,0)\n",
    "\n",
    "        if msg['action'] == 'Sell':\n",
    "            qty = qty * -1\n",
    "\n",
    "        position += qty\n",
    "\n",
    "        positions[code] = position\n",
    "    \n",
    "api.set_order_callback(place_cb)\n"
   ]
  },
  {
   "cell_type": "code",
   "execution_count": 6,
   "metadata": {},
   "outputs": [
    {
     "name": "stdout",
     "output_type": "stream",
     "text": [
      "資料已保存\n"
     ]
    }
   ],
   "source": [
    "import pickle\n",
    "\n",
    "entry_time = None\n",
    "entry_price = 0\n",
    "\n",
    "exit_time = None\n",
    "exit_price = 0\n",
    "\n",
    "AC = 0\n",
    "EH = 0\n",
    "last_price = 0\n",
    "cost_after_add = 0\n",
    "\n",
    "with open('trade_historical_variable.pkl', 'wb') as file:\n",
    "    trade_his_var = {\n",
    "                    'Entry_time': entry_time,\n",
    "                    'Entry_P':entry_price,\n",
    "                    'last_P': last_price,\n",
    "                    'AC': AC,\n",
    "                    'EH': EH,\n",
    "                    'cost_after_add':cost_after_add,\n",
    "                    'Position': 0}\n",
    "\n",
    "    pickle.dump(trade_his_var, file)\n",
    "\n",
    "print(\"資料已保存\")"
   ]
  },
  {
   "cell_type": "code",
   "execution_count": 25,
   "metadata": {},
   "outputs": [],
   "source": [
    "import time\n",
    "import pickle\n",
    "\n",
    "def tbot(codes, is_Futures = False,\n",
    "         filter = 0.1,\n",
    "         Ratio_Drawdown1 = 0.1,\n",
    "         Ratio_Drawdown2 = -0.03,\n",
    "         Quit_position = 0\n",
    "         ):\n",
    "\n",
    "    print('--- 啟動 Tbot for {} ---'.format(codes))\n",
    "\n",
    "    tw_calendar = get_calendar('XTAI')\n",
    "\n",
    "    #Risk Variables\n",
    "    filter = filter\n",
    "    Ratio_Drawdown1 = Ratio_Drawdown1 #預設台股最大漲跌幅\n",
    "    Ratio_Drawdown2 = Ratio_Drawdown2\n",
    "    Quit_position = Quit_position\n",
    "\n",
    "    #Call Other variable\n",
    "    with open('trade_historical_variable.pkl', 'rb') as file:\n",
    "        data = pickle.load(file)\n",
    "\n",
    "    entry_time = data['Entry_time']\n",
    "    entry_price = data['Entry_P']\n",
    "    last_price = data['last_P']\n",
    "    AC = data['AC']\n",
    "    EH = data['EH']\n",
    "    cost_after_add = data['cost_after_add']\n",
    "    \n",
    "    \n",
    "    #Start\n",
    "    dates = pd.to_datetime(datetime.datetime.now())\n",
    "\n",
    "    if is_Futures:\n",
    "        \n",
    "        #若為期貨只取英文代號作為code name\n",
    "        code = ''.join(char for char in codes if char.isalpha())\n",
    "\n",
    "        if dates.hour > 15:\n",
    "            date = pd.to_datetime(dates.date()+datetime.timedelta(days=1))\n",
    "        \n",
    "        else:\n",
    "            date = pd.to_datetime(dates.date())\n",
    "    print(date)\n",
    "    prev_trading_date = tw_calendar.previous_close(date).date()\n",
    "\n",
    "    if date not in tw_calendar.opens:\n",
    "        print('今日非交易日')\n",
    "        return\n",
    "\n",
    "    if is_Futures:\n",
    "        code = ''.join(char for char in codes if char.isalpha())\n",
    "    \n",
    "    else:\n",
    "        code = codes\n",
    "\n",
    "    ticks[code] = get_ticks(connection, api, date, codes , is_Futures )[0]\n",
    "    ticks[code] = ticks[code][['close','volume']]\n",
    "    kbars[code] = get_MA(ticks_to_kbars(ticks[code], interval='1Min'))\n",
    "    kbars[code] = kbars[code][prev_trading_date:]\n",
    "    print(kbars[code][(datetime.datetime.now()-datetime.timedelta(minutes=1).strftime('%Y-%m-%d %H:%M:%S'))])\n",
    "\n",
    "    volume_today[code] = kbars[code]['volume'].sum()\n",
    "\n",
    "    if is_Futures:\n",
    "        api.quote.subscribe(api.Contracts.Futures.get(code)[codes], \n",
    "                            quote_type= 'tick',\n",
    "                            version = sj.constant.QuoteVersion.v1 \n",
    "                            )\n",
    "        \n",
    "\n",
    "    else:\n",
    "        api.quote.subscribe(api.Contracts.Stocks[codes],\n",
    "                            quote_type= 'tick',\n",
    "                            version = sj.constant.QuoteVersion.v1\n",
    "                            )\n",
    "    \n",
    "    while True:\n",
    "\n",
    "        time.sleep(1)\n",
    "\n",
    "        current_time = datetime.datetime.now()\n",
    "\n",
    "\n",
    "        if  current_time.second == 0:\n",
    "\n",
    "            kbars[code] = get_MA((ticks_to_kbars(ticks[code], interval='1Min')))\n",
    "            kbars[code] = kbars[code][prev_trading_date:]\n",
    "\n",
    "\n",
    "            str_current_time = (current_time - datetime.timedelta(minutes=30)).strftime('%Y-%m-%d %H:%M:%S')\n",
    "                \n",
    "            try:\n",
    "                    \n",
    "                current_price = kbars[code].loc[str_current_time]['close']\n",
    "                \n",
    "                if current_price >= EH:\n",
    "                    EH = current_price\n",
    "            except:\n",
    "               continue\n",
    "            \n",
    "        \n",
    "            open_order = open_orders.get(code, None)\n",
    "\n",
    "            # Check the order status\n",
    "            if open_order:\n",
    "\n",
    "                api.update_status(api.futopt_account)\n",
    "\n",
    "                if open_order.status.status in ['PendingSubmit', 'Submitted', 'Filling']:\n",
    "\n",
    "                   api.cancel_order(open_order)\n",
    "\n",
    "                   open_orders[code] = None\n",
    "                   order_qty[code] = 0\n",
    "\n",
    "                if open_order.status.status != 'Filling':\n",
    "                    break\n",
    "\n",
    "            position = positions.get(code, 0)\n",
    "\n",
    "            if (\n",
    "                #first condition\n",
    "                position == 0 and \n",
    "                #OR condition\n",
    "                #current_price/kbars.iloc[ts]['ma20']-1 < filter or \n",
    "                current_price > kbars[code].loc[str_current_time]['ma20']                        \n",
    "            ):\n",
    "                if (\n",
    "                    #Entry condition\n",
    "                    current_price > kbars[code].loc[str_current_time]['ma10']         \n",
    "                ):\n",
    "                    qty = 1\n",
    "\n",
    "                    contract = api.Contracts.Futures.get(codes)[code]\n",
    "                    order = api.Order(\n",
    "                                    action=sj.constant.Action.Buy, \n",
    "                                    price=current_price,\n",
    "                                    quantity=qty,\n",
    "                                    price_type=\"LMT\",\n",
    "                                    order_type=\"ROD\",\n",
    "                                    octype=sj.constant.FuturesOCType.Auto,\n",
    "                                    account=api.futopt_account)\n",
    "\n",
    "                    trade = api.place_order(contract, order)\n",
    "\n",
    "                    open_orders[code] = trade\n",
    "                    order_qty[code] = qty\n",
    "\n",
    "                    entry_time = pd.Timestamp(date) + pd.Timedelta(hours=current_time.hour, minutes=current_time.minute, seconds=current_time.second)\n",
    "                    entry_price = current_price\n",
    "\n",
    "                    #Cost record\n",
    "                    AC = current_price\n",
    "                    EH = current_price\n",
    "                    last_price = current_price\n",
    "                    \n",
    "                    #Report\n",
    "                    print( 'Entry: [{}] buy {} at {}'.format(current_time, codes, current_price))\n",
    "\n",
    "            elif(\n",
    "                position != 0\n",
    "            ):\n",
    "                add_position = 1\n",
    "                cost_after_add = (AC * position + current_price * add_position) / (position + add_position)\n",
    "                cv1 = EH * (1+Ratio_Drawdown1) / cost_after_add -1\n",
    "                cv2 = EH * (1 + Ratio_Drawdown1) \n",
    "                \n",
    "                # 加碼條件1\n",
    "                if cv1 > 0:\n",
    "                    qty = add_position\n",
    "\n",
    "                    contract = api.Contracts.Futures.get(codes)[code]\n",
    "                    order = api.Order(\n",
    "                                    action=sj.constant.Action.Buy, \n",
    "                                    price=current_price,\n",
    "                                    quantity=qty,\n",
    "                                    price_type=\"LMT\",\n",
    "                                    order_type=\"ROD\",\n",
    "                                    octype=sj.constant.FuturesOCType.Auto,\n",
    "                                    account=api.futopt_account)\n",
    "\n",
    "                    trade = api.place_order(contract, order)\n",
    "\n",
    "                    open_orders[code] = trade\n",
    "                    order_qty[code] = qty\n",
    "\n",
    "                    #Cost record\n",
    "                    AC = (AC * (position-add_position) + current_price * add_position) / position\n",
    "                    EH = current_price\n",
    "                    last_price = current_price\n",
    "\n",
    "                        \n",
    "                    #Report\n",
    "                    print( 'Entry: [{}] Reach condition1: {} and buy {} at {}'.format(current_time,  round(cv1, 5),\n",
    "                                                                                    codes, current_price))\n",
    "                    print( 'Now: [{}] buy {} for {} units in at average price of {} '.format(current_time, codes, position, round(AC,2)))\n",
    "                \n",
    "                #加碼條件2\n",
    "                elif cv2 > last_price:\n",
    "                    qty = add_position\n",
    "\n",
    "                    contract = api.Contracts.Futures.get(code)[codes]\n",
    "                    order = api.Order(\n",
    "                                    action=sj.constant.Action.Buy, \n",
    "                                    price=current_price,\n",
    "                                    quantity=qty,\n",
    "                                    price_type=\"LMT\",\n",
    "                                    order_type=\"ROD\",\n",
    "                                    octype=sj.constant.FuturesOCType.Auto,\n",
    "                                    account=api.futopt_account)\n",
    "\n",
    "                    trade = api.place_order(contract, order)\n",
    "\n",
    "                    open_orders[code] = trade\n",
    "                    order_qty[code] = qty\n",
    "\n",
    "                    #Cost record\n",
    "                    AC = (AC * (position-add_position) + current_price * add_position) / position\n",
    "                    EH = current_price\n",
    "                    last_price = current_price\n",
    "                        \n",
    "                    #Report\n",
    "                    print( 'Entry: [{}] Reach condition2: {} and buy {} at {}'.format(current_time,  round(cv2, 5),\n",
    "                                                                                    codes, current_price))\n",
    "                    print( 'Now: [{}] buy {} for {} units in at average price of {} '.format(current_time, codes, position, round(AC,2)))\n",
    "                    \n",
    "                    #出場條件1\n",
    "                elif(\n",
    "                    position < 5 and\n",
    "                    current_price <= EH * (1+Ratio_Drawdown2)\n",
    "                ):\n",
    "                    contract = api.Contracts.Futures.get(code)[codes]\n",
    "                    order = api.Order(\n",
    "                                    action=sj.constant.Action.Sell, \n",
    "                                    price=current_price,\n",
    "                                    quantity=positions,\n",
    "                                    price_type=\"LMT\",\n",
    "                                    order_type=\"ROD\",\n",
    "                                    octype=sj.constant.FuturesOCType.Auto,\n",
    "                                    account=api.futopt_account\n",
    "                                    )\n",
    "\n",
    "                    trade = api.place_order(contract, order)\n",
    "\n",
    "                    open_orders[code] = trade\n",
    "                    order_qty[code] = position\n",
    "\n",
    "                    print('Exit: [{}] Reach condition1: {} and sell {} for {} units at {}'.format(current_time,\n",
    "                                                                                                   round(EH * (1+Ratio_Drawdown1), 5),\n",
    "                                                                                                  codes, position, current_price))\n",
    "                    \n",
    "                elif(\n",
    "                    position >= 5 and\n",
    "                    current_price <= EH * (1+Ratio_Drawdown2)\n",
    "                ):\n",
    "                    contract = api.Contracts.Futures.get(code)[codes]\n",
    "                    order = api.Order(\n",
    "                                    action=sj.constant.Action.Sell, \n",
    "                                    price=current_price,\n",
    "                                    quantity=positions,\n",
    "                                    price_type=\"LMT\",\n",
    "                                    order_type=\"ROD\",\n",
    "                                    octype=sj.constant.FuturesOCType.Auto,\n",
    "                                    account=api.futopt_account\n",
    "                                    )\n",
    "\n",
    "                    trade = api.place_order(contract, order)\n",
    "\n",
    "                    open_orders[code] = trade\n",
    "                    order_qty[code] = position\n",
    "\n",
    "                    print( 'Exit: [{}] Reach condition2: {} and sell {} for {} units at {}'.format(current_time, \n",
    "                                                                                                  round(EH * (1+Ratio_Drawdown2),5),\n",
    "                                                                                                  codes, position, current_price))\n",
    "                break\n",
    "    if is_Futures:\n",
    "        api.quote.unsubscribe(api.Contracts.Futures.get(code)[codes], \n",
    "                            quote_type= 'tick',\n",
    "                            version = sj.constant.QuoteVersion.v1 \n",
    "                            )\n",
    "            \n",
    "\n",
    "    else:\n",
    "        api.quote.unsubscribe(api.Contracts.Stocks[codes],\n",
    "                        quote_type= 'tick',\n",
    "                        version = sj.constant.QuoteVersion.v1\n",
    "                            )\n",
    "    \n",
    "\n",
    "\n",
    "    with open('trade_historical_variable.pkl', 'wb') as file:\n",
    "        trade_his_var = {\n",
    "                        'Entry_time': entry_time,\n",
    "                        'Entry_P':entry_price,\n",
    "                        'last_P': last_price,\n",
    "                        'AC': AC,\n",
    "                        'EH': EH,\n",
    "                        'cost_after_add':cost_after_add,\n",
    "                        'Position': positions.get(code, 0)}\n",
    "\n",
    "        pickle.dump(trade_his_var, file)\n",
    "\n",
    "    print(\"資料已保存\")\n",
    "        \n",
    "    print('----- 關閉 Tbot  #{} -----'.format(code))                                                                                 "
   ]
  },
  {
   "cell_type": "code",
   "execution_count": 26,
   "metadata": {},
   "outputs": [
    {
     "name": "stdout",
     "output_type": "stream",
     "text": [
      "--- 啟動 Tbot for TXF202411 ---\n",
      "2024-10-17 00:00:00\n",
      "2024-10-17\n"
     ]
    },
    {
     "ename": "AttributeError",
     "evalue": "'datetime.timedelta' object has no attribute 'strftime'",
     "output_type": "error",
     "traceback": [
      "\u001b[0;31m---------------------------------------------------------------------------\u001b[0m",
      "\u001b[0;31mAttributeError\u001b[0m                            Traceback (most recent call last)",
      "Cell \u001b[0;32mIn[26], line 2\u001b[0m\n\u001b[1;32m      1\u001b[0m code \u001b[38;5;241m=\u001b[39m \u001b[38;5;124m'\u001b[39m\u001b[38;5;124mTXF202411\u001b[39m\u001b[38;5;124m'\u001b[39m\n\u001b[0;32m----> 2\u001b[0m \u001b[43mtbot\u001b[49m\u001b[43m(\u001b[49m\u001b[43mcode\u001b[49m\u001b[43m,\u001b[49m\u001b[43m \u001b[49m\u001b[38;5;28;43;01mTrue\u001b[39;49;00m\u001b[43m)\u001b[49m\n",
      "Cell \u001b[0;32mIn[25], line 63\u001b[0m, in \u001b[0;36mtbot\u001b[0;34m(codes, is_Futures, filter, Ratio_Drawdown1, Ratio_Drawdown2, Quit_position)\u001b[0m\n\u001b[1;32m     61\u001b[0m kbars[code] \u001b[38;5;241m=\u001b[39m get_MA(ticks_to_kbars(ticks[code], interval\u001b[38;5;241m=\u001b[39m\u001b[38;5;124m'\u001b[39m\u001b[38;5;124m1Min\u001b[39m\u001b[38;5;124m'\u001b[39m))\n\u001b[1;32m     62\u001b[0m kbars[code] \u001b[38;5;241m=\u001b[39m kbars[code][prev_trading_date:]\n\u001b[0;32m---> 63\u001b[0m \u001b[38;5;28mprint\u001b[39m(kbars[code][(datetime\u001b[38;5;241m.\u001b[39mdatetime\u001b[38;5;241m.\u001b[39mnow()\u001b[38;5;241m-\u001b[39m\u001b[43mdatetime\u001b[49m\u001b[38;5;241;43m.\u001b[39;49m\u001b[43mtimedelta\u001b[49m\u001b[43m(\u001b[49m\u001b[43mminutes\u001b[49m\u001b[38;5;241;43m=\u001b[39;49m\u001b[38;5;241;43m1\u001b[39;49m\u001b[43m)\u001b[49m\u001b[38;5;241;43m.\u001b[39;49m\u001b[43mstrftime\u001b[49m(\u001b[38;5;124m'\u001b[39m\u001b[38;5;124m%\u001b[39m\u001b[38;5;124mY-\u001b[39m\u001b[38;5;124m%\u001b[39m\u001b[38;5;124mm-\u001b[39m\u001b[38;5;132;01m%d\u001b[39;00m\u001b[38;5;124m \u001b[39m\u001b[38;5;124m%\u001b[39m\u001b[38;5;124mH:\u001b[39m\u001b[38;5;124m%\u001b[39m\u001b[38;5;124mM:\u001b[39m\u001b[38;5;124m%\u001b[39m\u001b[38;5;124mS\u001b[39m\u001b[38;5;124m'\u001b[39m))])\n\u001b[1;32m     65\u001b[0m volume_today[code] \u001b[38;5;241m=\u001b[39m kbars[code][\u001b[38;5;124m'\u001b[39m\u001b[38;5;124mvolume\u001b[39m\u001b[38;5;124m'\u001b[39m]\u001b[38;5;241m.\u001b[39msum()\n\u001b[1;32m     67\u001b[0m \u001b[38;5;28;01mif\u001b[39;00m is_Futures:\n",
      "\u001b[0;31mAttributeError\u001b[0m: 'datetime.timedelta' object has no attribute 'strftime'"
     ]
    },
    {
     "name": "stderr",
     "output_type": "stream",
     "text": [
      "SDK NOTICE Thu Oct 17 15:30:00.808 2024 solClientOS.c:5777                   (30da10000) TCP: Could not read from socket 80, error = Connection reset by peer (54)\n",
      "SDK NOTICE Thu Oct 17 15:30:00.810 2024 solClientSmf.c:7171                  (30da10000) Read failed from transport 'compression' of session '(c0,s1)_sinopac' due to 'solClientOS.c:5777                   (30da10000) TCP: Could not read from socket 80, error = Connection reset by peer (54)', client name 'PYAPI/F229985348/1017/064143/231977/118.233.6.167', VPN name 'sinopac', peer address 'hostname '203.66.91.161:80' IP 203.66.91.161:80', connection 'tcp_TxRx' local address 'IP 192.168.0.101:49660'\n"
     ]
    },
    {
     "name": "stdout",
     "output_type": "stream",
     "text": [
      "Response Code: 0 | Event Code: 12 | Info: solClientOS.c:5777                   (30da10000) TCP: Could not read from socket 80, error = Connection reset by peer (54) | Event: Session reconnecting\n",
      "Response Code: 0 | Event Code: 13 | Info: host '203.66.91.161:80', hostname '203.66.91.161:80' IP 203.66.91.161:80 (host 1 of 1) (host connection attempt 1 of 1) (total reconnection attempt 1 of 10) | Event: Session reconnected\n"
     ]
    },
    {
     "name": "stderr",
     "output_type": "stream",
     "text": [
      "SDK NOTICE Thu Oct 17 15:58:05.278 2024 solClientOS.c:5777                   (30da10000) TCP: Could not read from socket 80, error = Connection reset by peer (54)\n",
      "SDK NOTICE Thu Oct 17 15:58:05.278 2024 solClientSmf.c:7171                  (30da10000) Read failed from transport 'compression' of session '(c0,s1)_sinopac' due to 'solClientOS.c:5777                   (30da10000) TCP: Could not read from socket 80, error = Connection reset by peer (54)', client name 'PYAPI/F229985348/1017/064143/231977/118.233.6.167', VPN name 'sinopac', peer address 'hostname '203.66.91.161:80' IP 203.66.91.161:80', connection 'tcp_TxRx' local address 'IP 192.168.0.101:50808'\n"
     ]
    },
    {
     "name": "stdout",
     "output_type": "stream",
     "text": [
      "Response Code: 0 | Event Code: 12 | Info: solClientOS.c:5777                   (30da10000) TCP: Could not read from socket 80, error = Connection reset by peer (54) | Event: Session reconnecting\n",
      "Response Code: 0 | Event Code: 13 | Info: host '203.66.91.161:80', hostname '203.66.91.161:80' IP 203.66.91.161:80 (host 1 of 1) (host connection attempt 1 of 1) (total reconnection attempt 1 of 10) | Event: Session reconnected\n"
     ]
    },
    {
     "name": "stderr",
     "output_type": "stream",
     "text": [
      "SDK NOTICE Thu Oct 17 15:58:34.872 2024 solClientOS.c:5777                   (30da10000) TCP: Could not read from socket 80, error = Connection reset by peer (54)\n",
      "SDK NOTICE Thu Oct 17 15:58:34.872 2024 solClientSmf.c:7171                  (30da10000) Read failed from transport 'compression' of session '(c0,s1)_sinopac' due to 'solClientOS.c:5777                   (30da10000) TCP: Could not read from socket 80, error = Connection reset by peer (54)', client name 'PYAPI/F229985348/1017/064143/231977/118.233.6.167', VPN name 'sinopac', peer address 'hostname '203.66.91.161:80' IP 203.66.91.161:80', connection 'tcp_TxRx' local address 'IP 192.168.0.101:50820'\n"
     ]
    },
    {
     "name": "stdout",
     "output_type": "stream",
     "text": [
      "Response Code: 0 | Event Code: 12 | Info: solClientOS.c:5777                   (30da10000) TCP: Could not read from socket 80, error = Connection reset by peer (54) | Event: Session reconnecting\n",
      "Response Code: 0 | Event Code: 13 | Info: host '203.66.91.161:80', hostname '203.66.91.161:80' IP 203.66.91.161:80 (host 1 of 1) (host connection attempt 1 of 1) (total reconnection attempt 1 of 10) | Event: Session reconnected\n"
     ]
    },
    {
     "name": "stderr",
     "output_type": "stream",
     "text": [
      "SDK NOTICE Thu Oct 17 17:03:46.788 2024 solClientOS.c:5777                   (30da10000) TCP: Could not read from socket 80, error = Connection reset by peer (54)\n",
      "SDK NOTICE Thu Oct 17 17:03:46.788 2024 solClientSmf.c:7171                  (30da10000) Read failed from transport 'compression' of session '(c0,s1)_sinopac' due to 'solClientOS.c:5777                   (30da10000) TCP: Could not read from socket 80, error = Connection reset by peer (54)', client name 'PYAPI/F229985348/1017/064143/231977/118.233.6.167', VPN name 'sinopac', peer address 'hostname '203.66.91.161:80' IP 203.66.91.161:80', connection 'tcp_TxRx' local address 'IP 192.168.0.101:50836'\n"
     ]
    },
    {
     "name": "stdout",
     "output_type": "stream",
     "text": [
      "Response Code: 0 | Event Code: 12 | Info: solClientOS.c:5777                   (30da10000) TCP: Could not read from socket 80, error = Connection reset by peer (54) | Event: Session reconnecting\n",
      "Response Code: 0 | Event Code: 13 | Info: host '203.66.91.161:80', hostname '203.66.91.161:80' IP 203.66.91.161:80 (host 1 of 1) (host connection attempt 1 of 1) (total reconnection attempt 1 of 10) | Event: Session reconnected\n"
     ]
    },
    {
     "name": "stderr",
     "output_type": "stream",
     "text": [
      "SDK NOTICE Thu Oct 17 17:21:27.030 2024 solClientOS.c:5777                   (30da10000) TCP: Could not read from socket 80, error = Connection reset by peer (54)\n",
      "SDK NOTICE Thu Oct 17 17:21:27.030 2024 solClientSmf.c:7171                  (30da10000) Read failed from transport 'compression' of session '(c0,s1)_sinopac' due to 'solClientOS.c:5777                   (30da10000) TCP: Could not read from socket 80, error = Connection reset by peer (54)', client name 'PYAPI/F229985348/1017/064143/231977/118.233.6.167', VPN name 'sinopac', peer address 'hostname '203.66.91.161:80' IP 203.66.91.161:80', connection 'tcp_TxRx' local address 'IP 192.168.0.101:50838'\n"
     ]
    },
    {
     "name": "stdout",
     "output_type": "stream",
     "text": [
      "Response Code: 0 | Event Code: 12 | Info: solClientOS.c:5777                   (30da10000) TCP: Could not read from socket 80, error = Connection reset by peer (54) | Event: Session reconnecting\n",
      "Response Code: 0 | Event Code: 13 | Info: host '203.66.91.161:80', hostname '203.66.91.161:80' IP 203.66.91.161:80 (host 1 of 1) (host connection attempt 1 of 1) (total reconnection attempt 1 of 10) | Event: Session reconnected\n"
     ]
    },
    {
     "name": "stderr",
     "output_type": "stream",
     "text": [
      "SDK NOTICE Thu Oct 17 17:37:36.099 2024 solClientOS.c:5777                   (30da10000) TCP: Could not read from socket 80, error = Connection reset by peer (54)\n",
      "SDK NOTICE Thu Oct 17 17:37:36.099 2024 solClientSmf.c:7171                  (30da10000) Read failed from transport 'compression' of session '(c0,s1)_sinopac' due to 'solClientOS.c:5777                   (30da10000) TCP: Could not read from socket 80, error = Connection reset by peer (54)', client name 'PYAPI/F229985348/1017/064143/231977/118.233.6.167', VPN name 'sinopac', peer address 'hostname '203.66.91.161:80' IP 203.66.91.161:80', connection 'tcp_TxRx' local address 'IP 192.168.0.101:50853'\n"
     ]
    },
    {
     "name": "stdout",
     "output_type": "stream",
     "text": [
      "Response Code: 0 | Event Code: 12 | Info: solClientOS.c:5777                   (30da10000) TCP: Could not read from socket 80, error = Connection reset by peer (54) | Event: Session reconnecting\n",
      "Response Code: 0 | Event Code: 13 | Info: host '203.66.91.161:80', hostname '203.66.91.161:80' IP 203.66.91.161:80 (host 1 of 1) (host connection attempt 1 of 1) (total reconnection attempt 1 of 10) | Event: Session reconnected\n"
     ]
    },
    {
     "name": "stderr",
     "output_type": "stream",
     "text": [
      "SDK NOTICE Thu Oct 17 18:22:26.903 2024 solClientOS.c:5777                   (30da10000) TCP: Could not read from socket 80, error = Connection reset by peer (54)\n",
      "SDK NOTICE Thu Oct 17 18:22:26.903 2024 solClientSmf.c:7171                  (30da10000) Read failed from transport 'compression' of session '(c0,s1)_sinopac' due to 'solClientOS.c:5777                   (30da10000) TCP: Could not read from socket 80, error = Connection reset by peer (54)', client name 'PYAPI/F229985348/1017/064143/231977/118.233.6.167', VPN name 'sinopac', peer address 'hostname '203.66.91.161:80' IP 203.66.91.161:80', connection 'tcp_TxRx' local address 'IP 192.168.0.101:50866'\n"
     ]
    },
    {
     "name": "stdout",
     "output_type": "stream",
     "text": [
      "Response Code: 0 | Event Code: 12 | Info: solClientOS.c:5777                   (30da10000) TCP: Could not read from socket 80, error = Connection reset by peer (54) | Event: Session reconnecting\n",
      "Response Code: 0 | Event Code: 13 | Info: host '203.66.91.161:80', hostname '203.66.91.161:80' IP 203.66.91.161:80 (host 1 of 1) (host connection attempt 1 of 1) (total reconnection attempt 1 of 10) | Event: Session reconnected\n"
     ]
    },
    {
     "name": "stderr",
     "output_type": "stream",
     "text": [
      "SDK NOTICE Thu Oct 17 19:03:24.381 2024 solClientOS.c:5777                   (30da10000) TCP: Could not read from socket 80, error = Connection reset by peer (54)\n",
      "SDK NOTICE Thu Oct 17 19:03:24.381 2024 solClientSmf.c:7171                  (30da10000) Read failed from transport 'compression' of session '(c0,s1)_sinopac' due to 'solClientOS.c:5777                   (30da10000) TCP: Could not read from socket 80, error = Connection reset by peer (54)', client name 'PYAPI/F229985348/1017/064143/231977/118.233.6.167', VPN name 'sinopac', peer address 'hostname '203.66.91.161:80' IP 203.66.91.161:80', connection 'tcp_TxRx' local address 'IP 192.168.0.101:50873'\n"
     ]
    },
    {
     "name": "stdout",
     "output_type": "stream",
     "text": [
      "Response Code: 0 | Event Code: 12 | Info: solClientOS.c:5777                   (30da10000) TCP: Could not read from socket 80, error = Connection reset by peer (54) | Event: Session reconnecting\n",
      "Response Code: 0 | Event Code: 13 | Info: host '203.66.91.161:80', hostname '203.66.91.161:80' IP 203.66.91.161:80 (host 1 of 1) (host connection attempt 1 of 1) (total reconnection attempt 1 of 10) | Event: Session reconnected\n"
     ]
    },
    {
     "name": "stderr",
     "output_type": "stream",
     "text": [
      "SDK NOTICE Thu Oct 17 19:11:43.838 2024 solClientOS.c:5777                   (30da10000) TCP: Could not read from socket 80, error = Connection reset by peer (54)\n",
      "SDK NOTICE Thu Oct 17 19:11:43.838 2024 solClientSmf.c:7171                  (30da10000) Read failed from transport 'compression' of session '(c0,s1)_sinopac' due to 'solClientOS.c:5777                   (30da10000) TCP: Could not read from socket 80, error = Connection reset by peer (54)', client name 'PYAPI/F229985348/1017/064143/231977/118.233.6.167', VPN name 'sinopac', peer address 'hostname '203.66.91.161:80' IP 203.66.91.161:80', connection 'tcp_TxRx' local address 'IP 192.168.0.101:50879'\n"
     ]
    },
    {
     "name": "stdout",
     "output_type": "stream",
     "text": [
      "Response Code: 0 | Event Code: 12 | Info: solClientOS.c:5777                   (30da10000) TCP: Could not read from socket 80, error = Connection reset by peer (54) | Event: Session reconnecting\n",
      "Response Code: 0 | Event Code: 13 | Info: host '203.66.91.161:80', hostname '203.66.91.161:80' IP 203.66.91.161:80 (host 1 of 1) (host connection attempt 1 of 1) (total reconnection attempt 1 of 10) | Event: Session reconnected\n"
     ]
    },
    {
     "name": "stderr",
     "output_type": "stream",
     "text": [
      "SDK NOTICE Thu Oct 17 19:13:16.083 2024 solClientOS.c:5777                   (30da10000) TCP: Could not read from socket 80, error = Connection reset by peer (54)\n",
      "SDK NOTICE Thu Oct 17 19:13:16.083 2024 solClientSmf.c:7171                  (30da10000) Read failed from transport 'compression' of session '(c0,s1)_sinopac' due to 'solClientOS.c:5777                   (30da10000) TCP: Could not read from socket 80, error = Connection reset by peer (54)', client name 'PYAPI/F229985348/1017/064143/231977/118.233.6.167', VPN name 'sinopac', peer address 'hostname '203.66.91.161:80' IP 203.66.91.161:80', connection 'tcp_TxRx' local address 'IP 192.168.0.101:50891'\n"
     ]
    },
    {
     "name": "stdout",
     "output_type": "stream",
     "text": [
      "Response Code: 0 | Event Code: 12 | Info: solClientOS.c:5777                   (30da10000) TCP: Could not read from socket 80, error = Connection reset by peer (54) | Event: Session reconnecting\n",
      "Response Code: 0 | Event Code: 13 | Info: host '203.66.91.161:80', hostname '203.66.91.161:80' IP 203.66.91.161:80 (host 1 of 1) (host connection attempt 1 of 1) (total reconnection attempt 1 of 10) | Event: Session reconnected\n"
     ]
    },
    {
     "name": "stderr",
     "output_type": "stream",
     "text": [
      "SDK NOTICE Thu Oct 17 19:13:44.338 2024 solClientOS.c:5777                   (30da10000) TCP: Could not read from socket 80, error = Connection reset by peer (54)\n",
      "SDK NOTICE Thu Oct 17 19:13:44.338 2024 solClientSmf.c:7171                  (30da10000) Read failed from transport 'compression' of session '(c0,s1)_sinopac' due to 'solClientOS.c:5777                   (30da10000) TCP: Could not read from socket 80, error = Connection reset by peer (54)', client name 'PYAPI/F229985348/1017/064143/231977/118.233.6.167', VPN name 'sinopac', peer address 'hostname '203.66.91.161:80' IP 203.66.91.161:80', connection 'tcp_TxRx' local address 'IP 192.168.0.101:50895'\n"
     ]
    },
    {
     "name": "stdout",
     "output_type": "stream",
     "text": [
      "Response Code: 0 | Event Code: 12 | Info: solClientOS.c:5777                   (30da10000) TCP: Could not read from socket 80, error = Connection reset by peer (54) | Event: Session reconnecting\n",
      "Response Code: 0 | Event Code: 13 | Info: host '203.66.91.161:80', hostname '203.66.91.161:80' IP 203.66.91.161:80 (host 1 of 1) (host connection attempt 1 of 1) (total reconnection attempt 1 of 10) | Event: Session reconnected\n"
     ]
    },
    {
     "name": "stderr",
     "output_type": "stream",
     "text": [
      "SDK NOTICE Thu Oct 17 19:14:14.641 2024 solClientOS.c:5777                   (30da10000) TCP: Could not read from socket 80, error = Connection reset by peer (54)\n",
      "SDK NOTICE Thu Oct 17 19:14:14.641 2024 solClientSmf.c:7171                  (30da10000) Read failed from transport 'compression' of session '(c0,s1)_sinopac' due to 'solClientOS.c:5777                   (30da10000) TCP: Could not read from socket 80, error = Connection reset by peer (54)', client name 'PYAPI/F229985348/1017/064143/231977/118.233.6.167', VPN name 'sinopac', peer address 'hostname '203.66.91.161:80' IP 203.66.91.161:80', connection 'tcp_TxRx' local address 'IP 192.168.0.101:50899'\n"
     ]
    },
    {
     "name": "stdout",
     "output_type": "stream",
     "text": [
      "Response Code: 0 | Event Code: 12 | Info: solClientOS.c:5777                   (30da10000) TCP: Could not read from socket 80, error = Connection reset by peer (54) | Event: Session reconnecting\n",
      "Response Code: 0 | Event Code: 13 | Info: host '203.66.91.161:80', hostname '203.66.91.161:80' IP 203.66.91.161:80 (host 1 of 1) (host connection attempt 1 of 1) (total reconnection attempt 1 of 10) | Event: Session reconnected\n"
     ]
    },
    {
     "name": "stderr",
     "output_type": "stream",
     "text": [
      "SDK NOTICE Thu Oct 17 19:23:26.646 2024 solClientOS.c:5777                   (30da10000) TCP: Could not read from socket 80, error = Connection reset by peer (54)\n",
      "SDK NOTICE Thu Oct 17 19:23:26.647 2024 solClientSmf.c:7171                  (30da10000) Read failed from transport 'compression' of session '(c0,s1)_sinopac' due to 'solClientOS.c:5777                   (30da10000) TCP: Could not read from socket 80, error = Connection reset by peer (54)', client name 'PYAPI/F229985348/1017/064143/231977/118.233.6.167', VPN name 'sinopac', peer address 'hostname '203.66.91.161:80' IP 203.66.91.161:80', connection 'tcp_TxRx' local address 'IP 192.168.0.101:50900'\n"
     ]
    },
    {
     "name": "stdout",
     "output_type": "stream",
     "text": [
      "Response Code: 0 | Event Code: 12 | Info: solClientOS.c:5777                   (30da10000) TCP: Could not read from socket 80, error = Connection reset by peer (54) | Event: Session reconnecting\n",
      "Response Code: 0 | Event Code: 13 | Info: host '203.66.91.161:80', hostname '203.66.91.161:80' IP 203.66.91.161:80 (host 1 of 1) (host connection attempt 1 of 1) (total reconnection attempt 1 of 10) | Event: Session reconnected\n"
     ]
    },
    {
     "name": "stderr",
     "output_type": "stream",
     "text": [
      "SDK NOTICE Thu Oct 17 19:31:06.819 2024 solClientOS.c:5777                   (30da10000) TCP: Could not read from socket 80, error = Connection reset by peer (54)\n",
      "SDK NOTICE Thu Oct 17 19:31:06.820 2024 solClientSmf.c:7171                  (30da10000) Read failed from transport 'compression' of session '(c0,s1)_sinopac' due to 'solClientOS.c:5777                   (30da10000) TCP: Could not read from socket 80, error = Connection reset by peer (54)', client name 'PYAPI/F229985348/1017/064143/231977/118.233.6.167', VPN name 'sinopac', peer address 'hostname '203.66.91.161:80' IP 203.66.91.161:80', connection 'tcp_TxRx' local address 'IP 192.168.0.101:50901'\n"
     ]
    },
    {
     "name": "stdout",
     "output_type": "stream",
     "text": [
      "Response Code: 0 | Event Code: 12 | Info: solClientOS.c:5777                   (30da10000) TCP: Could not read from socket 80, error = Connection reset by peer (54) | Event: Session reconnecting\n",
      "Response Code: 0 | Event Code: 13 | Info: host '203.66.91.161:80', hostname '203.66.91.161:80' IP 203.66.91.161:80 (host 1 of 1) (host connection attempt 1 of 1) (total reconnection attempt 1 of 10) | Event: Session reconnected\n"
     ]
    },
    {
     "name": "stderr",
     "output_type": "stream",
     "text": [
      "SDK NOTICE Thu Oct 17 19:37:30.020 2024 solClientOS.c:5777                   (30da10000) TCP: Could not read from socket 80, error = Connection reset by peer (54)\n",
      "SDK NOTICE Thu Oct 17 19:37:30.020 2024 solClientSmf.c:7171                  (30da10000) Read failed from transport 'compression' of session '(c0,s1)_sinopac' due to 'solClientOS.c:5777                   (30da10000) TCP: Could not read from socket 80, error = Connection reset by peer (54)', client name 'PYAPI/F229985348/1017/064143/231977/118.233.6.167', VPN name 'sinopac', peer address 'hostname '203.66.91.161:80' IP 203.66.91.161:80', connection 'tcp_TxRx' local address 'IP 192.168.0.101:50905'\n"
     ]
    },
    {
     "name": "stdout",
     "output_type": "stream",
     "text": [
      "Response Code: 0 | Event Code: 12 | Info: solClientOS.c:5777                   (30da10000) TCP: Could not read from socket 80, error = Connection reset by peer (54) | Event: Session reconnecting\n",
      "Response Code: 0 | Event Code: 13 | Info: host '203.66.91.161:80', hostname '203.66.91.161:80' IP 203.66.91.161:80 (host 1 of 1) (host connection attempt 1 of 1) (total reconnection attempt 1 of 10) | Event: Session reconnected\n"
     ]
    },
    {
     "name": "stderr",
     "output_type": "stream",
     "text": [
      "SDK NOTICE Thu Oct 17 19:37:50.618 2024 solClientOS.c:5777                   (30da10000) TCP: Could not read from socket 80, error = Connection reset by peer (54)\n",
      "SDK NOTICE Thu Oct 17 19:37:50.618 2024 solClientSmf.c:7171                  (30da10000) Read failed from transport 'compression' of session '(c0,s1)_sinopac' due to 'solClientOS.c:5777                   (30da10000) TCP: Could not read from socket 80, error = Connection reset by peer (54)', client name 'PYAPI/F229985348/1017/064143/231977/118.233.6.167', VPN name 'sinopac', peer address 'hostname '203.66.91.161:80' IP 203.66.91.161:80', connection 'tcp_TxRx' local address 'IP 192.168.0.101:50910'\n"
     ]
    },
    {
     "name": "stdout",
     "output_type": "stream",
     "text": [
      "Response Code: 0 | Event Code: 12 | Info: solClientOS.c:5777                   (30da10000) TCP: Could not read from socket 80, error = Connection reset by peer (54) | Event: Session reconnecting\n",
      "Response Code: 0 | Event Code: 13 | Info: host '203.66.91.161:80', hostname '203.66.91.161:80' IP 203.66.91.161:80 (host 1 of 1) (host connection attempt 1 of 1) (total reconnection attempt 1 of 10) | Event: Session reconnected\n"
     ]
    },
    {
     "name": "stderr",
     "output_type": "stream",
     "text": [
      "SDK NOTICE Thu Oct 17 19:40:30.742 2024 solClientOS.c:5777                   (30da10000) TCP: Could not read from socket 80, error = Connection reset by peer (54)\n",
      "SDK NOTICE Thu Oct 17 19:40:30.742 2024 solClientSmf.c:7171                  (30da10000) Read failed from transport 'compression' of session '(c0,s1)_sinopac' due to 'solClientOS.c:5777                   (30da10000) TCP: Could not read from socket 80, error = Connection reset by peer (54)', client name 'PYAPI/F229985348/1017/064143/231977/118.233.6.167', VPN name 'sinopac', peer address 'hostname '203.66.91.161:80' IP 203.66.91.161:80', connection 'tcp_TxRx' local address 'IP 192.168.0.101:50917'\n"
     ]
    },
    {
     "name": "stdout",
     "output_type": "stream",
     "text": [
      "Response Code: 0 | Event Code: 12 | Info: solClientOS.c:5777                   (30da10000) TCP: Could not read from socket 80, error = Connection reset by peer (54) | Event: Session reconnecting\n",
      "Response Code: 0 | Event Code: 13 | Info: host '203.66.91.161:80', hostname '203.66.91.161:80' IP 203.66.91.161:80 (host 1 of 1) (host connection attempt 1 of 1) (total reconnection attempt 1 of 10) | Event: Session reconnected\n"
     ]
    },
    {
     "name": "stderr",
     "output_type": "stream",
     "text": [
      "SDK NOTICE Thu Oct 17 20:24:26.784 2024 solClientOS.c:5777                   (30da10000) TCP: Could not read from socket 80, error = Connection reset by peer (54)\n",
      "SDK NOTICE Thu Oct 17 20:24:26.784 2024 solClientSmf.c:7171                  (30da10000) Read failed from transport 'compression' of session '(c0,s1)_sinopac' due to 'solClientOS.c:5777                   (30da10000) TCP: Could not read from socket 80, error = Connection reset by peer (54)', client name 'PYAPI/F229985348/1017/064143/231977/118.233.6.167', VPN name 'sinopac', peer address 'hostname '203.66.91.161:80' IP 203.66.91.161:80', connection 'tcp_TxRx' local address 'IP 192.168.0.101:50921'\n"
     ]
    },
    {
     "name": "stdout",
     "output_type": "stream",
     "text": [
      "Response Code: 0 | Event Code: 12 | Info: solClientOS.c:5777                   (30da10000) TCP: Could not read from socket 80, error = Connection reset by peer (54) | Event: Session reconnecting\n",
      "Response Code: 0 | Event Code: 13 | Info: host '203.66.91.161:80', hostname '203.66.91.161:80' IP 203.66.91.161:80 (host 1 of 1) (host connection attempt 1 of 1) (total reconnection attempt 1 of 10) | Event: Session reconnected\n"
     ]
    },
    {
     "name": "stderr",
     "output_type": "stream",
     "text": [
      "SDK NOTICE Thu Oct 17 20:27:17.027 2024 solClientOS.c:5777                   (30da10000) TCP: Could not read from socket 80, error = Connection reset by peer (54)\n",
      "SDK NOTICE Thu Oct 17 20:27:17.027 2024 solClientSmf.c:7171                  (30da10000) Read failed from transport 'compression' of session '(c0,s1)_sinopac' due to 'solClientOS.c:5777                   (30da10000) TCP: Could not read from socket 80, error = Connection reset by peer (54)', client name 'PYAPI/F229985348/1017/064143/231977/118.233.6.167', VPN name 'sinopac', peer address 'hostname '203.66.91.161:80' IP 203.66.91.161:80', connection 'tcp_TxRx' local address 'IP 192.168.0.101:50924'\n"
     ]
    },
    {
     "name": "stdout",
     "output_type": "stream",
     "text": [
      "Response Code: 0 | Event Code: 12 | Info: solClientOS.c:5777                   (30da10000) TCP: Could not read from socket 80, error = Connection reset by peer (54) | Event: Session reconnecting\n",
      "Response Code: 0 | Event Code: 13 | Info: host '203.66.91.161:80', hostname '203.66.91.161:80' IP 203.66.91.161:80 (host 1 of 1) (host connection attempt 1 of 1) (total reconnection attempt 1 of 10) | Event: Session reconnected\n"
     ]
    },
    {
     "name": "stderr",
     "output_type": "stream",
     "text": [
      "SDK NOTICE Thu Oct 17 20:30:38.832 2024 solClientOS.c:5777                   (30da10000) TCP: Could not read from socket 80, error = Connection reset by peer (54)\n",
      "SDK NOTICE Thu Oct 17 20:30:38.832 2024 solClientSmf.c:7171                  (30da10000) Read failed from transport 'compression' of session '(c0,s1)_sinopac' due to 'solClientOS.c:5777                   (30da10000) TCP: Could not read from socket 80, error = Connection reset by peer (54)', client name 'PYAPI/F229985348/1017/064143/231977/118.233.6.167', VPN name 'sinopac', peer address 'hostname '203.66.91.161:80' IP 203.66.91.161:80', connection 'tcp_TxRx' local address 'IP 192.168.0.101:50936'\n"
     ]
    },
    {
     "name": "stdout",
     "output_type": "stream",
     "text": [
      "Response Code: 0 | Event Code: 12 | Info: solClientOS.c:5777                   (30da10000) TCP: Could not read from socket 80, error = Connection reset by peer (54) | Event: Session reconnecting\n",
      "Response Code: 0 | Event Code: 13 | Info: host '203.66.91.161:80', hostname '203.66.91.161:80' IP 203.66.91.161:80 (host 1 of 1) (host connection attempt 1 of 1) (total reconnection attempt 1 of 10) | Event: Session reconnected\n"
     ]
    },
    {
     "name": "stderr",
     "output_type": "stream",
     "text": [
      "SDK NOTICE Thu Oct 17 21:18:36.065 2024 solClientOS.c:5777                   (30da10000) TCP: Could not read from socket 80, error = Connection reset by peer (54)\n",
      "SDK NOTICE Thu Oct 17 21:18:36.065 2024 solClientSmf.c:7171                  (30da10000) Read failed from transport 'compression' of session '(c0,s1)_sinopac' due to 'solClientOS.c:5777                   (30da10000) TCP: Could not read from socket 80, error = Connection reset by peer (54)', client name 'PYAPI/F229985348/1017/064143/231977/118.233.6.167', VPN name 'sinopac', peer address 'hostname '203.66.91.161:80' IP 203.66.91.161:80', connection 'tcp_TxRx' local address 'IP 192.168.0.101:50938'\n"
     ]
    },
    {
     "name": "stdout",
     "output_type": "stream",
     "text": [
      "Response Code: 0 | Event Code: 12 | Info: solClientOS.c:5777                   (30da10000) TCP: Could not read from socket 80, error = Connection reset by peer (54) | Event: Session reconnecting\n",
      "Response Code: 0 | Event Code: 13 | Info: host '203.66.91.161:80', hostname '203.66.91.161:80' IP 203.66.91.161:80 (host 1 of 1) (host connection attempt 1 of 1) (total reconnection attempt 1 of 10) | Event: Session reconnected\n"
     ]
    },
    {
     "name": "stderr",
     "output_type": "stream",
     "text": [
      "SDK NOTICE Thu Oct 17 21:25:26.631 2024 solClientOS.c:5777                   (30da10000) TCP: Could not read from socket 80, error = Connection reset by peer (54)\n",
      "SDK NOTICE Thu Oct 17 21:25:26.631 2024 solClientSmf.c:7171                  (30da10000) Read failed from transport 'compression' of session '(c0,s1)_sinopac' due to 'solClientOS.c:5777                   (30da10000) TCP: Could not read from socket 80, error = Connection reset by peer (54)', client name 'PYAPI/F229985348/1017/064143/231977/118.233.6.167', VPN name 'sinopac', peer address 'hostname '203.66.91.161:80' IP 203.66.91.161:80', connection 'tcp_TxRx' local address 'IP 192.168.0.101:50941'\n"
     ]
    },
    {
     "name": "stdout",
     "output_type": "stream",
     "text": [
      "Response Code: 0 | Event Code: 12 | Info: solClientOS.c:5777                   (30da10000) TCP: Could not read from socket 80, error = Connection reset by peer (54) | Event: Session reconnecting\n",
      "Response Code: 0 | Event Code: 13 | Info: host '203.66.91.161:80', hostname '203.66.91.161:80' IP 203.66.91.161:80 (host 1 of 1) (host connection attempt 1 of 1) (total reconnection attempt 1 of 10) | Event: Session reconnected\n"
     ]
    },
    {
     "name": "stderr",
     "output_type": "stream",
     "text": [
      "SDK NOTICE Thu Oct 17 21:38:00.031 2024 solClientOS.c:5777                   (30da10000) TCP: Could not read from socket 80, error = Connection reset by peer (54)\n",
      "SDK NOTICE Thu Oct 17 21:38:00.031 2024 solClientSmf.c:7171                  (30da10000) Read failed from transport 'compression' of session '(c0,s1)_sinopac' due to 'solClientOS.c:5777                   (30da10000) TCP: Could not read from socket 80, error = Connection reset by peer (54)', client name 'PYAPI/F229985348/1017/064143/231977/118.233.6.167', VPN name 'sinopac', peer address 'hostname '203.66.91.161:80' IP 203.66.91.161:80', connection 'tcp_TxRx' local address 'IP 192.168.0.101:50955'\n"
     ]
    },
    {
     "name": "stdout",
     "output_type": "stream",
     "text": [
      "Response Code: 0 | Event Code: 12 | Info: solClientOS.c:5777                   (30da10000) TCP: Could not read from socket 80, error = Connection reset by peer (54) | Event: Session reconnecting\n",
      "Response Code: 0 | Event Code: 13 | Info: host '203.66.91.161:80', hostname '203.66.91.161:80' IP 203.66.91.161:80 (host 1 of 1) (host connection attempt 1 of 1) (total reconnection attempt 1 of 10) | Event: Session reconnected\n"
     ]
    },
    {
     "name": "stderr",
     "output_type": "stream",
     "text": [
      "SDK NOTICE Thu Oct 17 21:39:53.213 2024 solClient.c:12194                    (30da10000) Session '(c0,s1)_sinopac' keep-alive on tcp_TxRx detected session down, client name 'PYAPI/F229985348/1017/064143/231977/118.233.6.167', VPN name 'sinopac', peer address 'hostname '203.66.91.161:80' IP 203.66.91.161:80', connection 'tcp_TxRx' local address 'IP 192.168.0.101:50960'\n",
      "SDK NOTICE Thu Oct 17 21:39:53.216 2024 solClientOS.c:4470                   (30da10000) TCP connection failure for fd 80, error = No route to host (65)\n",
      "SDK NOTICE Thu Oct 17 21:39:53.216 2024 solClient.c:6147                     (30da10000) Session '(c0,s1)_sinopac', could not open transport for tcp_TxRx\n",
      "SDK NOTICE Thu Oct 17 21:39:53.216 2024 solClient.c:11240                    (30da10000) Session '(c0,s1)_sinopac' error attempting transport connection, client name 'PYAPI/F229985348/1017/064143/231977/118.233.6.167', VPN name 'sinopac', peer address 'hostname '203.66.91.161:80' IP 203.66.91.161:80', connection 'tcp_TxRx' local address 'IP 192.168.0.101:51050'\n",
      "SDK NOTICE Thu Oct 17 21:39:53.216 2024 solClient.c:11395                    (30da10000) Protocol or communication error when attempting to login for session '(c0,s1)_sinopac'; are session HOST and PORT correct? client name 'PYAPI/F229985348/1017/064143/231977/118.233.6.167', VPN name 'sinopac', peer address 'hostname '203.66.91.161:80' IP 203.66.91.161:80', connection 'tcp_TxRx' local address 'IP 192.168.0.101:51050'\n"
     ]
    },
    {
     "name": "stdout",
     "output_type": "stream",
     "text": [
      "Response Code: 0 | Event Code: 12 | Info: solClient.c:12194                    (30da10000) Session '(c0,s1)_sinopac' keep-alive on tcp_TxRx detected session down, client name 'PYAPI/F229985348/1017/064143/231977/118.233.6.167', VPN name 'sinopac', peer address 'hostname '203.66.91.161:80' IP 203. | Event: Session reconnecting\n"
     ]
    },
    {
     "name": "stderr",
     "output_type": "stream",
     "text": [
      "SDK NOTICE Thu Oct 17 21:39:56.238 2024 solClientOS.c:4470                   (30da10000) TCP connection failure for fd 81, error = No route to host (65)\n",
      "SDK NOTICE Thu Oct 17 21:39:56.238 2024 solClient.c:6147                     (30da10000) Session '(c0,s1)_sinopac', could not open transport for tcp_TxRx\n",
      "SDK NOTICE Thu Oct 17 21:39:56.239 2024 solClient.c:11240                    (30da10000) Session '(c0,s1)_sinopac' error attempting transport connection, client name 'PYAPI/F229985348/1017/064143/231977/118.233.6.167', VPN name 'sinopac', peer address 'hostname '203.66.91.161:80' IP 203.66.91.161:80', connection 'tcp_TxRx' local address 'IP 192.168.0.101:51053'\n",
      "SDK NOTICE Thu Oct 17 21:39:56.239 2024 solClient.c:11395                    (30da10000) Protocol or communication error when attempting to login for session '(c0,s1)_sinopac'; are session HOST and PORT correct? client name 'PYAPI/F229985348/1017/064143/231977/118.233.6.167', VPN name 'sinopac', peer address 'hostname '203.66.91.161:80' IP 203.66.91.161:80', connection 'tcp_TxRx' local address 'IP 192.168.0.101:51053'\n",
      "SDK NOTICE Thu Oct 17 21:39:59.291 2024 solClientOS.c:4470                   (30da10000) TCP connection failure for fd 81, error = No route to host (65)\n",
      "SDK NOTICE Thu Oct 17 21:39:59.291 2024 solClient.c:6147                     (30da10000) Session '(c0,s1)_sinopac', could not open transport for tcp_TxRx\n",
      "SDK NOTICE Thu Oct 17 21:39:59.291 2024 solClient.c:11240                    (30da10000) Session '(c0,s1)_sinopac' error attempting transport connection, client name 'PYAPI/F229985348/1017/064143/231977/118.233.6.167', VPN name 'sinopac', peer address 'hostname '203.66.91.161:80' IP 203.66.91.161:80', connection 'tcp_TxRx' local address 'IP 192.168.0.101:51056'\n",
      "SDK NOTICE Thu Oct 17 21:39:59.291 2024 solClient.c:11395                    (30da10000) Protocol or communication error when attempting to login for session '(c0,s1)_sinopac'; are session HOST and PORT correct? client name 'PYAPI/F229985348/1017/064143/231977/118.233.6.167', VPN name 'sinopac', peer address 'hostname '203.66.91.161:80' IP 203.66.91.161:80', connection 'tcp_TxRx' local address 'IP 192.168.0.101:51056'\n",
      "SDK NOTICE Thu Oct 17 21:40:02.365 2024 solClientOS.c:4470                   (30da10000) TCP connection failure for fd 81, error = No route to host (65)\n",
      "SDK NOTICE Thu Oct 17 21:40:02.365 2024 solClient.c:6147                     (30da10000) Session '(c0,s1)_sinopac', could not open transport for tcp_TxRx\n",
      "SDK NOTICE Thu Oct 17 21:40:02.365 2024 solClient.c:11240                    (30da10000) Session '(c0,s1)_sinopac' error attempting transport connection, client name 'PYAPI/F229985348/1017/064143/231977/118.233.6.167', VPN name 'sinopac', peer address 'hostname '203.66.91.161:80' IP 203.66.91.161:80', connection 'tcp_TxRx' local address 'IP 192.168.0.101:51057'\n",
      "SDK NOTICE Thu Oct 17 21:40:02.365 2024 solClient.c:11395                    (30da10000) Protocol or communication error when attempting to login for session '(c0,s1)_sinopac'; are session HOST and PORT correct? client name 'PYAPI/F229985348/1017/064143/231977/118.233.6.167', VPN name 'sinopac', peer address 'hostname '203.66.91.161:80' IP 203.66.91.161:80', connection 'tcp_TxRx' local address 'IP 192.168.0.101:51057'\n",
      "SDK NOTICE Thu Oct 17 21:40:05.412 2024 solClientOS.c:4470                   (30da10000) TCP connection failure for fd 81, error = No route to host (65)\n",
      "SDK NOTICE Thu Oct 17 21:40:05.412 2024 solClient.c:6147                     (30da10000) Session '(c0,s1)_sinopac', could not open transport for tcp_TxRx\n",
      "SDK NOTICE Thu Oct 17 21:40:05.412 2024 solClient.c:11240                    (30da10000) Session '(c0,s1)_sinopac' error attempting transport connection, client name 'PYAPI/F229985348/1017/064143/231977/118.233.6.167', VPN name 'sinopac', peer address 'hostname '203.66.91.161:80' IP 203.66.91.161:80', connection 'tcp_TxRx' local address 'IP 172.20.10.2:51060'\n",
      "SDK NOTICE Thu Oct 17 21:40:05.412 2024 solClient.c:11395                    (30da10000) Protocol or communication error when attempting to login for session '(c0,s1)_sinopac'; are session HOST and PORT correct? client name 'PYAPI/F229985348/1017/064143/231977/118.233.6.167', VPN name 'sinopac', peer address 'hostname '203.66.91.161:80' IP 203.66.91.161:80', connection 'tcp_TxRx' local address 'IP 172.20.10.2:51060'\n",
      "SDK NOTICE Thu Oct 17 21:40:08.446 2024 solClientOS.c:4470                   (30da10000) TCP connection failure for fd 81, error = No route to host (65)\n",
      "SDK NOTICE Thu Oct 17 21:40:08.447 2024 solClient.c:6147                     (30da10000) Session '(c0,s1)_sinopac', could not open transport for tcp_TxRx\n",
      "SDK NOTICE Thu Oct 17 21:40:08.447 2024 solClient.c:11240                    (30da10000) Session '(c0,s1)_sinopac' error attempting transport connection, client name 'PYAPI/F229985348/1017/064143/231977/118.233.6.167', VPN name 'sinopac', peer address 'hostname '203.66.91.161:80' IP 203.66.91.161:80', connection 'tcp_TxRx' local address 'IP 172.20.10.2:51061'\n",
      "SDK NOTICE Thu Oct 17 21:40:08.447 2024 solClient.c:11395                    (30da10000) Protocol or communication error when attempting to login for session '(c0,s1)_sinopac'; are session HOST and PORT correct? client name 'PYAPI/F229985348/1017/064143/231977/118.233.6.167', VPN name 'sinopac', peer address 'hostname '203.66.91.161:80' IP 203.66.91.161:80', connection 'tcp_TxRx' local address 'IP 172.20.10.2:51061'\n",
      "SDK NOTICE Thu Oct 17 21:40:11.498 2024 solClientOS.c:4470                   (30da10000) TCP connection failure for fd 81, error = No route to host (65)\n",
      "SDK NOTICE Thu Oct 17 21:40:11.498 2024 solClient.c:6147                     (30da10000) Session '(c0,s1)_sinopac', could not open transport for tcp_TxRx\n",
      "SDK NOTICE Thu Oct 17 21:40:11.498 2024 solClient.c:11240                    (30da10000) Session '(c0,s1)_sinopac' error attempting transport connection, client name 'PYAPI/F229985348/1017/064143/231977/118.233.6.167', VPN name 'sinopac', peer address 'hostname '203.66.91.161:80' IP 203.66.91.161:80', connection 'tcp_TxRx' local address 'IP 172.20.10.2:51064'\n",
      "SDK NOTICE Thu Oct 17 21:40:11.498 2024 solClient.c:11395                    (30da10000) Protocol or communication error when attempting to login for session '(c0,s1)_sinopac'; are session HOST and PORT correct? client name 'PYAPI/F229985348/1017/064143/231977/118.233.6.167', VPN name 'sinopac', peer address 'hostname '203.66.91.161:80' IP 203.66.91.161:80', connection 'tcp_TxRx' local address 'IP 172.20.10.2:51064'\n",
      "SDK NOTICE Thu Oct 17 21:40:14.545 2024 solClientOS.c:4470                   (30da10000) TCP connection failure for fd 81, error = No route to host (65)\n",
      "SDK NOTICE Thu Oct 17 21:40:14.545 2024 solClient.c:6147                     (30da10000) Session '(c0,s1)_sinopac', could not open transport for tcp_TxRx\n",
      "SDK NOTICE Thu Oct 17 21:40:14.545 2024 solClient.c:11240                    (30da10000) Session '(c0,s1)_sinopac' error attempting transport connection, client name 'PYAPI/F229985348/1017/064143/231977/118.233.6.167', VPN name 'sinopac', peer address 'hostname '203.66.91.161:80' IP 203.66.91.161:80', connection 'tcp_TxRx' local address 'IP 172.20.10.2:51067'\n",
      "SDK NOTICE Thu Oct 17 21:40:14.545 2024 solClient.c:11395                    (30da10000) Protocol or communication error when attempting to login for session '(c0,s1)_sinopac'; are session HOST and PORT correct? client name 'PYAPI/F229985348/1017/064143/231977/118.233.6.167', VPN name 'sinopac', peer address 'hostname '203.66.91.161:80' IP 203.66.91.161:80', connection 'tcp_TxRx' local address 'IP 172.20.10.2:51067'\n",
      "SDK NOTICE Thu Oct 17 21:40:17.599 2024 solClientOS.c:4470                   (30da10000) TCP connection failure for fd 81, error = No route to host (65)\n",
      "SDK NOTICE Thu Oct 17 21:40:17.611 2024 solClient.c:6147                     (30da10000) Session '(c0,s1)_sinopac', could not open transport for tcp_TxRx\n",
      "SDK NOTICE Thu Oct 17 21:40:17.611 2024 solClient.c:11240                    (30da10000) Session '(c0,s1)_sinopac' error attempting transport connection, client name 'PYAPI/F229985348/1017/064143/231977/118.233.6.167', VPN name 'sinopac', peer address 'hostname '203.66.91.161:80' IP 203.66.91.161:80', connection 'tcp_TxRx' local address 'IP 172.20.10.2:51068'\n",
      "SDK NOTICE Thu Oct 17 21:40:17.611 2024 solClient.c:11395                    (30da10000) Protocol or communication error when attempting to login for session '(c0,s1)_sinopac'; are session HOST and PORT correct? client name 'PYAPI/F229985348/1017/064143/231977/118.233.6.167', VPN name 'sinopac', peer address 'hostname '203.66.91.161:80' IP 203.66.91.161:80', connection 'tcp_TxRx' local address 'IP 172.20.10.2:51068'\n"
     ]
    },
    {
     "name": "stdout",
     "output_type": "stream",
     "text": [
      "Response Code: 0 | Event Code: 13 | Info: host '203.66.91.161:80', hostname '203.66.91.161:80' IP 203.66.91.161:80 (host 1 of 1) (host connection attempt 1 of 1) (total reconnection attempt 10 of 10) | Event: Session reconnected\n"
     ]
    },
    {
     "name": "stderr",
     "output_type": "stream",
     "text": [
      "SDK NOTICE Thu Oct 17 21:41:24.965 2024 solClient.c:12194                    (30da10000) Session '(c0,s1)_sinopac' keep-alive on tcp_TxRx detected session down, client name 'PYAPI/F229985348/1017/064143/231977/118.233.6.167', VPN name 'sinopac', peer address 'hostname '203.66.91.161:80' IP 203.66.91.161:80', connection 'tcp_TxRx' local address 'IP 172.20.10.2:51073'\n"
     ]
    },
    {
     "name": "stdout",
     "output_type": "stream",
     "text": [
      "Response Code: 0 | Event Code: 12 | Info: solClient.c:12194                    (30da10000) Session '(c0,s1)_sinopac' keep-alive on tcp_TxRx detected session down, client name 'PYAPI/F229985348/1017/064143/231977/118.233.6.167', VPN name 'sinopac', peer address 'hostname '203.66.91.161:80' IP 203. | Event: Session reconnecting\n",
      "Response Code: 0 | Event Code: 13 | Info: host '203.66.91.161:80', hostname '203.66.91.161:80' IP 203.66.91.161:80 (host 1 of 1) (host connection attempt 1 of 1) (total reconnection attempt 1 of 10) | Event: Session reconnected\n"
     ]
    },
    {
     "name": "stderr",
     "output_type": "stream",
     "text": [
      "SDK NOTICE Thu Oct 17 21:43:51.915 2024 solClient.c:3316                     (30da10000) Could not write message to tcp_TxRx transport 'compression', error 'solClientOS.c:5678                   (30da10000) Could not vector write to socket 80, error = Broken pipe (32)', when trying to send in _solClient_doSend for session '(c0,s1)_sinopac', client name 'PYAPI/F229985348/1017/064143/231977/118.233.6.167', VPN name 'sinopac', peer address 'hostname '203.66.91.161:80' IP 203.66.91.161:80', connection 'tcp_TxRx' local address 'IP 192.168.0.101:51130'\n"
     ]
    },
    {
     "name": "stdout",
     "output_type": "stream",
     "text": [
      "Response Code: 0 | Event Code: 12 | Info: solClientOS.c:5678                   (30da10000) Could not vector write to socket 80, error = Broken pipe (32) | Event: Session reconnecting\n",
      "Response Code: 0 | Event Code: 13 | Info: host '203.66.91.161:80', hostname '203.66.91.161:80' IP 203.66.91.161:80 (host 1 of 1) (host connection attempt 1 of 1) (total reconnection attempt 1 of 10) | Event: Session reconnected\n"
     ]
    },
    {
     "name": "stderr",
     "output_type": "stream",
     "text": [
      "SDK NOTICE Thu Oct 17 21:43:55.053 2024 solClient.c:3316                     (30da10000) Could not write message to tcp_TxRx transport 'compression', error 'solClientOS.c:5678                   (30da10000) Could not vector write to socket 80, error = Broken pipe (32)', when trying to send in _solClient_doSend for session '(c0,s1)_sinopac', client name 'PYAPI/F229985348/1017/064143/231977/118.233.6.167', VPN name 'sinopac', peer address 'hostname '203.66.91.161:80' IP 203.66.91.161:80', connection 'tcp_TxRx' local address 'IP 172.20.10.2:51201'\n"
     ]
    },
    {
     "name": "stdout",
     "output_type": "stream",
     "text": [
      "Response Code: 0 | Event Code: 12 | Info: solClientOS.c:5678                   (30da10000) Could not vector write to socket 80, error = Broken pipe (32) | Event: Session reconnecting\n",
      "Response Code: 0 | Event Code: 13 | Info: host '203.66.91.161:80', hostname '203.66.91.161:80' IP 203.66.91.161:80 (host 1 of 1) (host connection attempt 1 of 1) (total reconnection attempt 1 of 10) | Event: Session reconnected\n"
     ]
    }
   ],
   "source": [
    "code = 'TXF202411'\n",
    "tbot(code, True)"
   ]
  },
  {
   "cell_type": "code",
   "execution_count": 9,
   "metadata": {},
   "outputs": [
    {
     "name": "stdout",
     "output_type": "stream",
     "text": [
      "Response Code: 200 | Event Code: 16 | Info: TIC/v1/FOP/*/TFE/TXFJ4 | Event: Subscribe or Unsubscribe ok\n"
     ]
    }
   ],
   "source": [
    "api.quote.unsubscribe(api.Contracts.Futures.TXF.TXF202410, \n",
    "                            quote_type= 'tick',\n",
    "                            version = sj.constant.QuoteVersion.v1 \n",
    "                            )"
   ]
  },
  {
   "cell_type": "code",
   "execution_count": null,
   "metadata": {},
   "outputs": [],
   "source": [
    "api.account_balance()\n"
   ]
  },
  {
   "cell_type": "code",
   "execution_count": null,
   "metadata": {},
   "outputs": [],
   "source": []
  }
 ],
 "metadata": {
  "kernelspec": {
   "display_name": "Python 3",
   "language": "python",
   "name": "python3"
  },
  "language_info": {
   "codemirror_mode": {
    "name": "ipython",
    "version": 3
   },
   "file_extension": ".py",
   "mimetype": "text/x-python",
   "name": "python",
   "nbconvert_exporter": "python",
   "pygments_lexer": "ipython3",
   "version": "3.8.0"
  }
 },
 "nbformat": 4,
 "nbformat_minor": 2
}
