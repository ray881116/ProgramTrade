{
 "cells": [
  {
   "cell_type": "code",
   "execution_count": 1,
   "metadata": {},
   "outputs": [],
   "source": [
    "from Functionbase import *\n",
    "from Backtest import *\n"
   ]
  },
  {
   "cell_type": "code",
   "execution_count": null,
   "metadata": {},
   "outputs": [],
   "source": [
    "import os \n",
    "from dotenv import load_dotenv\n",
    "\n",
    "load_dotenv()\n",
    "api = sj.Shioaji(simulation=True)\n",
    "api.login(\n",
    "    os.getenv('API_KEY'),\n",
    "    os.getenv('SECRET_KEY'),\n",
    "    contracts_cb= lambda security_type: print(f\"{repr(security_type)} fetch done\"))\n",
    "\n",
    "connection = sqlite3.connect('data.db')"
   ]
  },
  {
   "cell_type": "code",
   "execution_count": null,
   "metadata": {},
   "outputs": [],
   "source": [
    "ticks = {}\n",
    "kbars = {}\n",
    "volume_today = {}"
   ]
  },
  {
   "cell_type": "code",
   "execution_count": null,
   "metadata": {},
   "outputs": [],
   "source": [
    "def tbot(code):\n",
    "    import pandas as pd\n",
    "    \n",
    "    print('--- 啟動 Tbot #{} ---'.format(code))\n",
    "\n",
    "    tw_calendar = get_calendar('XTAI')\n",
    "    \n",
    "    date = pd.to_datetime(datetime.datetime.now().date())\n",
    "    prev_trading_date = tw_calendar.previous_close(date).date()\n",
    "\n",
    "    if date not in tw_calendar.opens:\n",
    "        print('今日非交易日')\n",
    "        return\n",
    "    \n",
    "    ticks[code] = pd.concat([get_ticks(code, prev_trading_date, connection, api)[0],get_ticks(code, date, connection, api)[0]])\n",
    "    ticks[code] = ticks[code][['close','volume']]\n",
    "    kbars[code] = get_technical_indicator(ticks_to_kbars(ticks[code], interval='1Min'))\n",
    "    kbars[code] = kbars[code][date:]\n",
    "    volume_today[code] = kbars[code]['volume'].sum()\n",
    "    \n"
   ]
  },
  {
   "cell_type": "code",
   "execution_count": null,
   "metadata": {},
   "outputs": [],
   "source": [
    "code = '2330'\n",
    "tbot(code)"
   ]
  },
  {
   "cell_type": "code",
   "execution_count": null,
   "metadata": {},
   "outputs": [],
   "source": [
    "ticks\n",
    "ticks[code]\n",
    "kbars\n",
    "kbars[code]\n",
    "volume_today"
   ]
  },
  {
   "cell_type": "markdown",
   "metadata": {},
   "source": [
    "Callback function 用來制定如何處理接收到的ticks資料"
   ]
  },
  {
   "cell_type": "code",
   "execution_count": 5,
   "metadata": {},
   "outputs": [],
   "source": [
    "@api.quote.on_quote\n",
    "def quote_callback(topic: str, quote):\n",
    "    \n",
    "    #print('\\n\\ntopic:', topic)\n",
    "    #print('quote:', quote)\n",
    "\n",
    "    code = topic.split('/')[-1]\n",
    "\n",
    "    ts = pd.to_datetime(quote.get('Date')  + ' ' + quote.get('Time'))\n",
    "\n",
    "    if ts.hour < 9:\n",
    "        return\n",
    "    \n",
    "    close = quote.get('Close')[0]\n",
    "    volume = quote.get('Volume')[0]\n",
    "    vol_sum = quote.get('VolSum')[0]\n",
    "\n",
    "    ticks[code].loc[ts] = [close, volume]\n",
    "    volume_today[code] = vol_sum\n",
    "\n",
    "\n"
   ]
  },
  {
   "cell_type": "code",
   "execution_count": null,
   "metadata": {},
   "outputs": [],
   "source": [
    "@api.quote.on_quote\n",
    "def quote_callback(topic: str, quote):\n",
    "    \n",
    "    #print('\\n\\ntopic:', topic)\n",
    "    #print('quote:', quote)\n",
    "\n",
    "    code = topic.split('/')[-1]\n",
    "\n",
    "    ts = pd.to_datetime(quote.get('Date')  + ' ' + quote.get('Time'))\n",
    "\n",
    "    if ts.hour < 9:\n",
    "        return\n",
    "    \n",
    "    close = quote.get('Close')[0]\n",
    "    volume = quote.get('Volume')[0]\n",
    "    vol_sum = quote.get('VolSum')[0]\n",
    "\n",
    "    ticks[code].loc[ts] = [close, volume]\n",
    "    volume_today[code] = vol_sum"
   ]
  },
  {
   "cell_type": "code",
   "execution_count": null,
   "metadata": {},
   "outputs": [],
   "source": [
    "api.quote.subscribe(api.Contracts.Stocks[code], quote_type='tick')"
   ]
  },
  {
   "cell_type": "code",
   "execution_count": null,
   "metadata": {},
   "outputs": [],
   "source": [
    "api.quote.unsubscribe(api.Contracts.Stocks[code], quote_type='tick')"
   ]
  },
  {
   "cell_type": "code",
   "execution_count": null,
   "metadata": {},
   "outputs": [],
   "source": [
    "ticks[code]\n",
    "volume_today[code]"
   ]
  },
  {
   "cell_type": "code",
   "execution_count": 10,
   "metadata": {},
   "outputs": [],
   "source": [
    "import time\n",
    "\n",
    "def tbot(code):\n",
    "\n",
    "    print('--- 啟動 Tbot #{} ---'.format(code))\n",
    "\n",
    "    tw_calendar = get_calendar('XTAI')\n",
    "    \n",
    "    date = pd.to_datetime(datetime.datetime.now().date())\n",
    "    prev_trading_date = tw_calendar.previous_close(date).date()\n",
    "\n",
    "    if date not in tw_calendar.opens:\n",
    "        print('今日非交易日')\n",
    "        return\n",
    "    \n",
    "    ticks[code] = pd.concat([get_ticks(code, prev_trading_date, connection, api)[0],get_ticks(code, date, connection, api)[0]])\n",
    "    ticks[code] = ticks[code][['close','volume']]\n",
    "    kbars[code] = get_technical_indicator(ticks_to_kbars(ticks[code], interval='1Min'))\n",
    "    kbars[code] = kbars[code][date:]\n",
    "    volume_today[code] = kbars[code]['volume'].sum()\n",
    "\n",
    "    api.quote.subscribe(api.Contracts.Stocks[code], quote_type='tick')\n",
    "\n",
    "    while True:\n",
    "\n",
    "        time.sleep(1)\n",
    "\n",
    "        current_time = datetime.datetime.now()\n",
    "\n",
    "        if current_time.second == 0: #秒數為0:每分鐘跑一次\n",
    "\n",
    "            kbars[code] = get_technical_indicator(ticks_to_kbars(ticks[code], interval='1Min'))\n",
    "            kbars[code] = kbars[code][date:]\n",
    "\n",
    "            str_current_time = (current_time - datetime.timedelta(minutes=1)).strftime('%Y-%m-%d %H:%M:%S')\n",
    "\n",
    "            try:\n",
    "                currrent_kbar = kbars[code].loc[str_current_time]\n",
    "            except:\n",
    "                continue\n",
    "\n",
    "            print(currrent_kbar)\n",
    "\n",
    "    \n"
   ]
  },
  {
   "cell_type": "code",
   "execution_count": null,
   "metadata": {},
   "outputs": [],
   "source": [
    "tbot('2330')"
   ]
  },
  {
   "cell_type": "code",
   "execution_count": null,
   "metadata": {},
   "outputs": [],
   "source": []
  }
 ],
 "metadata": {
  "kernelspec": {
   "display_name": "Python 3",
   "language": "python",
   "name": "python3"
  },
  "language_info": {
   "codemirror_mode": {
    "name": "ipython",
    "version": 3
   },
   "file_extension": ".py",
   "mimetype": "text/x-python",
   "name": "python",
   "nbconvert_exporter": "python",
   "pygments_lexer": "ipython3",
   "version": "3.8.0"
  }
 },
 "nbformat": 4,
 "nbformat_minor": 2
}
