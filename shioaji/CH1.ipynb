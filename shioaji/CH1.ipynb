{
 "cells": [
  {
   "cell_type": "code",
   "execution_count": 1,
   "metadata": {},
   "outputs": [
    {
     "name": "stderr",
     "output_type": "stream",
     "text": [
      "2024-08-05 13:49:55.937 | WARNING  | importlib._bootstrap:_call_with_frames_removed:219 - Optional: pip install shioaji[speed] for better performance.\n"
     ]
    },
    {
     "name": "stdout",
     "output_type": "stream",
     "text": [
      "1.2.2\n"
     ]
    }
   ],
   "source": [
    "import shioaji as sj\n",
    "print(sj.__version__)"
   ]
  },
  {
   "cell_type": "code",
   "execution_count": 3,
   "metadata": {},
   "outputs": [
    {
     "name": "stdout",
     "output_type": "stream",
     "text": [
      "Response Code: 0 | Event Code: 0 | Info: host '203.66.91.161:80', hostname '203.66.91.161:80' IP 203.66.91.161:80 (host 1 of 1) (host connection attempt 1 of 1) (total connection attempt 1 of 1) | Event: Session up\n"
     ]
    },
    {
     "data": {
      "text/plain": [
       "[FutureAccount(person_id='F229985348', broker_id='F002000', account_id='1553688', username='黃子芮'),\n",
       " StockAccount(person_id='F229985348', broker_id='9A89', account_id='2160122', signed=True, username='黃子芮')]"
      ]
     },
     "execution_count": 3,
     "metadata": {},
     "output_type": "execute_result"
    }
   ],
   "source": [
    "api = sj.Shioaji(simulation=True)\n",
    "api.login(\n",
    "    api_key= \"2drr4R5o5zuNG3THkXSo6KtywFoLSDd9MaX5CjBUuELC\",\n",
    "    secret_key=\"9qzaG6GydCSsvQKJQ3fcTsjCBP1b1yTPXkVYwGYTCcqb\"\n",
    ")"
   ]
  },
  {
   "cell_type": "markdown",
   "metadata": {},
   "source": [
    "股票下單測試"
   ]
  },
  {
   "cell_type": "code",
   "execution_count": 10,
   "metadata": {},
   "outputs": [
    {
     "name": "stdout",
     "output_type": "stream",
     "text": [
      "OrderState.StockOrder {'operation': {'op_type': 'New', 'op_code': '00', 'op_msg': ''}, 'order': {'id': 'd13d69b6', 'seqno': '000604', 'ordno': '0001A2', 'action': 'Buy', 'price': 18, 'quantity': 1, 'order_cond': 'Cash', 'order_lot': 'Common', 'custom_field': '', 'order_type': 'ROD', 'price_type': 'LMT'}, 'status': {'id': 'd13d69b6', 'exchange_ts': 1695715930.932656, 'order_quantity': 1, 'modified_price': 0, 'cancel_quantity': 0, 'web_id': '137'}, 'contract': {'security_type': 'STK', 'exchange': 'TSE', 'code': '2890'}}\n"
     ]
    },
    {
     "data": {
      "text/plain": [
       "Trade(contract=Stock(exchange=<Exchange.TSE: 'TSE'>, code='2890', symbol='TSE2890', name='永豐金', category='17', unit=1000, limit_up=19.15, limit_down=15.75, reference=17.45, update_date='2023/09/26', day_trade=<DayTrade.Yes: 'Yes'>), order=Order(action=<Action.Buy: 'Buy'>, price=18, quantity=1, id='d13d69b6', seqno='000604', ordno='0001A2', account=Account(account_type=<AccountType.Stock: 'S'>, person_id='F229985348', broker_id='9A89', account_id='2160122'), price_type=<StockPriceType.LMT: 'LMT'>, order_type=<OrderType.ROD: 'ROD'>), status=OrderStatus(id='d13d69b6', status=<Status.PendingSubmit: 'PendingSubmit'>, status_code='00', order_datetime=datetime.datetime(2023, 9, 26, 16, 12, 10, 932656), deals=[]))"
      ]
     },
     "execution_count": 10,
     "metadata": {},
     "output_type": "execute_result"
    }
   ],
   "source": [
    "contract = api.Contracts.Stocks.TSE[\"2890\"]\n",
    "\n",
    "order = api.Order(\n",
    "    price=18,\n",
    "    quantity=1,\n",
    "    action=sj.constant.Action.Buy,\n",
    "    price_type=sj.constant.StockPriceType.LMT,\n",
    "    order_type=sj.constant.OrderType.ROD,\n",
    "    account = api.stock_account\n",
    ")\n",
    "\n",
    "trade =  api.place_order(contract, order)\n",
    "trade"
   ]
  },
  {
   "cell_type": "markdown",
   "metadata": {},
   "source": [
    "期貨下單測試"
   ]
  },
  {
   "cell_type": "code",
   "execution_count": 16,
   "metadata": {},
   "outputs": [
    {
     "name": "stdout",
     "output_type": "stream",
     "text": [
      "OrderState.FuturesOrder {'operation': {'op_type': 'New', 'op_code': '88', 'op_msg': '價格超過漲跌幅範圍'}, 'order': {'id': 'd91cc17f', 'seqno': '000608', 'ordno': '0001A3', 'action': 'Buy', 'price': 15000, 'quantity': 1, 'order_type': 'ROD', 'price_type': 'LMT', 'oc_type': 'Auto', 'custom_field': ''}, 'status': {'id': 'd91cc17f', 'exchange_ts': 1695716871.46549, 'order_quantity': 0, 'modified_price': 0, 'cancel_quantity': 0, 'web_id': 'Z'}, 'contract': {'security_type': 'FUT', 'exchange': 'TAIFEX', 'code': 'TXFJ3'}}\n"
     ]
    },
    {
     "data": {
      "text/plain": [
       "Trade(contract=Future(code='TXFJ3', symbol='TXF202310', name='臺股期貨10', category='TXF', delivery_month='202310', delivery_date='2023/10/18', underlying_kind='I', unit=1, limit_up=18111.0, limit_down=14819.0, reference=16465.0, update_date='2023/09/26'), order=Order(action=<Action.Buy: 'Buy'>, price=15000, quantity=1, id='d91cc17f', seqno='000608', ordno='0001A3', account=Account(account_type=<AccountType.Future: 'F'>, person_id='F229985348', broker_id='F002000', account_id='1553688'), price_type=<StockPriceType.LMT: 'LMT'>, order_type=<OrderType.ROD: 'ROD'>), status=OrderStatus(id='d91cc17f', status=<Status.PendingSubmit: 'PendingSubmit'>, status_code='00', order_datetime=datetime.datetime(2023, 9, 26, 16, 27, 51, 465490), deals=[]))"
      ]
     },
     "execution_count": 16,
     "metadata": {},
     "output_type": "execute_result"
    }
   ],
   "source": [
    "contract = min(\n",
    "    [\n",
    "        x for x in api.Contracts.Futures.TXF \n",
    "        if x.code[-2:] not in [\"R1\", \"R2\"]\n",
    "    ],\n",
    "    key=lambda x: x.delivery_date\n",
    ")\n",
    "\n",
    "order = api.Order(\n",
    "    action=sj.constant.Action.Buy,                   # 買賣別\n",
    "    price=15000,                                     # 價格\n",
    "    quantity=1,                                      # 數量\n",
    "    price_type=sj.constant.FuturesPriceType.LMT,     # 委託價格類別\n",
    "    order_type=sj.constant.OrderType.ROD,            # 委託條件\n",
    "    octype=sj.constant.FuturesOCType.Auto,           # 倉別\n",
    "    account=api.futopt_account                       # 下單帳號\n",
    ")\n",
    "\n",
    "# 下單\n",
    "trade = api.place_order(contract, order)\n",
    "trade"
   ]
  },
  {
   "cell_type": "markdown",
   "metadata": {},
   "source": [
    "API測試"
   ]
  },
  {
   "cell_type": "code",
   "execution_count": 4,
   "metadata": {},
   "outputs": [
    {
     "name": "stdout",
     "output_type": "stream",
     "text": [
      "Response Code: 0 | Event Code: 0 | Info: host '203.66.91.161:80', hostname '203.66.91.161:80' IP 203.66.91.161:80 (host 1 of 1) (host connection attempt 1 of 1) (total connection attempt 1 of 1) | Event: Session up\n"
     ]
    },
    {
     "data": {
      "text/plain": [
       "[FutureAccount(person_id='F229985348', broker_id='F002000', account_id='1553688', username='黃子芮'),\n",
       " StockAccount(person_id='F229985348', broker_id='9A89', account_id='2160122', signed=True, username='黃子芮')]"
      ]
     },
     "execution_count": 4,
     "metadata": {},
     "output_type": "execute_result"
    }
   ],
   "source": [
    "api = sj.Shioaji(simulation=False)   # Production Mode\n",
    "accounts = api.login(\n",
    "    api_key= \"2drr4R5o5zuNG3THkXSo6KtywFoLSDd9MaX5CjBUuELC\",\n",
    "    secret_key=\"9qzaG6GydCSsvQKJQ3fcTsjCBP1b1yTPXkVYwGYTCcqb\"\n",
    ")\n",
    "accounts"
   ]
  },
  {
   "cell_type": "markdown",
   "metadata": {},
   "source": [
    "啟用憑證"
   ]
  },
  {
   "cell_type": "code",
   "execution_count": 5,
   "metadata": {},
   "outputs": [
    {
     "ename": "ValueError",
     "evalue": "ReadFile Error No such file or directory (os error 2)",
     "output_type": "error",
     "traceback": [
      "\u001b[0;31m---------------------------------------------------------------------------\u001b[0m",
      "\u001b[0;31mValueError\u001b[0m                                Traceback (most recent call last)",
      "Cell \u001b[0;32mIn[5], line 1\u001b[0m\n\u001b[0;32m----> 1\u001b[0m result \u001b[38;5;241m=\u001b[39m \u001b[43mapi\u001b[49m\u001b[38;5;241;43m.\u001b[39;49m\u001b[43mactivate_ca\u001b[49m\u001b[43m(\u001b[49m\n\u001b[1;32m      2\u001b[0m \u001b[43m    \u001b[49m\u001b[43mca_path\u001b[49m\u001b[38;5;241;43m=\u001b[39;49m\u001b[38;5;124;43m\"\u001b[39;49m\u001b[38;5;124;43mC:/ekey/551/F229985348/S\u001b[39;49m\u001b[38;5;124;43m\"\u001b[39;49m\u001b[43m,\u001b[49m\n\u001b[1;32m      3\u001b[0m \u001b[43m    \u001b[49m\u001b[43mca_passwd\u001b[49m\u001b[38;5;241;43m=\u001b[39;49m\u001b[38;5;124;43m\"\u001b[39;49m\u001b[38;5;124;43mRay881116\u001b[39;49m\u001b[38;5;124;43m\"\u001b[39;49m\u001b[43m,\u001b[49m\n\u001b[1;32m      4\u001b[0m \u001b[43m    \u001b[49m\u001b[43mperson_id\u001b[49m\u001b[38;5;241;43m=\u001b[39;49m\u001b[38;5;124;43m\"\u001b[39;49m\u001b[38;5;124;43mF229985348\u001b[39;49m\u001b[38;5;124;43m\"\u001b[39;49m\u001b[43m,\u001b[49m\n\u001b[1;32m      5\u001b[0m \u001b[43m)\u001b[49m\n\u001b[1;32m      7\u001b[0m \u001b[38;5;28mprint\u001b[39m(result)\n",
      "File \u001b[0;32m/Library/Frameworks/Python.framework/Versions/3.8/lib/python3.8/site-packages/shioaji/shioaji.py:370\u001b[0m, in \u001b[0;36mShioaji.activate_ca\u001b[0;34m(self, ca_path, ca_passwd, person_id, store)\u001b[0m\n\u001b[1;32m    362\u001b[0m \u001b[38;5;28;01mdef\u001b[39;00m \u001b[38;5;21mactivate_ca\u001b[39m(\u001b[38;5;28mself\u001b[39m, ca_path: \u001b[38;5;28mstr\u001b[39m, ca_passwd: \u001b[38;5;28mstr\u001b[39m, person_id: \u001b[38;5;28mstr\u001b[39m \u001b[38;5;241m=\u001b[39m \u001b[38;5;124m\"\u001b[39m\u001b[38;5;124m\"\u001b[39m, store: \u001b[38;5;28mint\u001b[39m \u001b[38;5;241m=\u001b[39m \u001b[38;5;241m0\u001b[39m):\n\u001b[1;32m    363\u001b[0m \u001b[38;5;250m    \u001b[39m\u001b[38;5;124;03m\"\"\"activate your ca for trading\u001b[39;00m\n\u001b[1;32m    364\u001b[0m \n\u001b[1;32m    365\u001b[0m \u001b[38;5;124;03m    Args:\u001b[39;00m\n\u001b[0;32m   (...)\u001b[0m\n\u001b[1;32m    368\u001b[0m \u001b[38;5;124;03m        ca_passwd (str): password of your ca\u001b[39;00m\n\u001b[1;32m    369\u001b[0m \u001b[38;5;124;03m    \"\"\"\u001b[39;00m\n\u001b[0;32m--> 370\u001b[0m     res \u001b[38;5;241m=\u001b[39m \u001b[38;5;28;43mself\u001b[39;49m\u001b[38;5;241;43m.\u001b[39;49m\u001b[43m_solace\u001b[49m\u001b[38;5;241;43m.\u001b[39;49m\u001b[43mactivate_ca\u001b[49m\u001b[43m(\u001b[49m\u001b[43mca_path\u001b[49m\u001b[43m,\u001b[49m\u001b[43m \u001b[49m\u001b[43mca_passwd\u001b[49m\u001b[43m,\u001b[49m\u001b[43m \u001b[49m\u001b[43mperson_id\u001b[49m\u001b[43m,\u001b[49m\u001b[43m \u001b[49m\u001b[43mstore\u001b[49m\u001b[43m)\u001b[49m\n\u001b[1;32m    371\u001b[0m     \u001b[38;5;28;01mreturn\u001b[39;00m res\n",
      "File \u001b[0;32mshioaji/backend/solace/api.pyx:346\u001b[0m, in \u001b[0;36mshioaji.backend.solace.api.SolaceAPI.activate_ca\u001b[0;34m()\u001b[0m\n",
      "\u001b[0;31mValueError\u001b[0m: ReadFile Error No such file or directory (os error 2)"
     ]
    }
   ],
   "source": [
    "result = api.activate_ca(\n",
    "    ca_path=\"C:/ekey/551/F229985348/S\",\n",
    "    ca_passwd=\"Ray881116\",\n",
    "    person_id=\"F229985348\",\n",
    ")\n",
    "\n",
    "print(result)"
   ]
  },
  {
   "cell_type": "code",
   "execution_count": null,
   "metadata": {},
   "outputs": [],
   "source": []
  }
 ],
 "metadata": {
  "kernelspec": {
   "display_name": "Python 3",
   "language": "python",
   "name": "python3"
  },
  "language_info": {
   "codemirror_mode": {
    "name": "ipython",
    "version": 3
   },
   "file_extension": ".py",
   "mimetype": "text/x-python",
   "name": "python",
   "nbconvert_exporter": "python",
   "pygments_lexer": "ipython3",
   "version": "3.8.0"
  },
  "orig_nbformat": 4
 },
 "nbformat": 4,
 "nbformat_minor": 2
}
