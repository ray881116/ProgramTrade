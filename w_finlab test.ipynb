{
 "cells": [
  {
   "cell_type": "code",
   "execution_count": null,
   "metadata": {},
   "outputs": [],
   "source": [
    "import os\n",
    "from finlab.online.sinopac_account import SinopacAccount\n",
    "\n",
    "os.environ['SHIOAJI_API_KEY'] = '2drr4R5o5zuNG3THkXSo6KtywFoLSDd9MaX5CjBUuELC'\n",
    "os.environ['SHIOAJI_SECRET_KEY'] = '9qzaG6GydCSsvQKJQ3fcTsjCBP1b1yTPXkVYwGYTCcqb'\n",
    "os.environ['SHIOAJI_CERT_PATH'] = '/Users/ray881116/Documents/Ray_M/ekey/551/F229985348/S/Sinopac.pfx'\n",
    "os.environ['SHIOAJI_CERT_PASSWORD'] = 'F229985348'\n",
    "os.environ['SHIOAJI_CERT_PERSON_ID'] = 'F229985348'\n",
    "\n",
    "acc = SinopacAccount()"
   ]
  },
  {
   "cell_type": "code",
   "execution_count": null,
   "metadata": {},
   "outputs": [],
   "source": [
    "import finlab\n",
    "finlab.login('qJ5mydSbDgtQLXFOf7QNTs7TOTexbhAbhgFIQ9CmXyifNbb45nxtM/RV7Kwi4T49#free')"
   ]
  },
  {
   "cell_type": "code",
   "execution_count": null,
   "metadata": {},
   "outputs": [],
   "source": [
    "import os\n",
    "from finlab.online.sinopac_account import SinopacAccount\n",
    "from finlab import data\n",
    "from finlab.backtest import sim"
   ]
  },
  {
   "cell_type": "code",
   "execution_count": null,
   "metadata": {},
   "outputs": [],
   "source": [
    "pe = data.get('price_earning_ratio:本益比')\n",
    "rev = data.get('monthly_revenue:當月營收')\n",
    "rev_ma3 = rev.average(3)\n",
    "rev_ma12 = rev.average(12)\n",
    "RoOM = data.get('fundamental_features:營業利益')\n",
    "peg = (pe/RoOM)\n",
    "cond1 = rev_ma3/rev_ma12 > 1.1\n",
    "cond2 = rev / rev.shift() > 0.9\n",
    "\n",
    "cond_all = cond1 & cond2\n",
    "result = peg * (cond_all)\n",
    "position = result[result>0].is_smallest(10).reindex(rev.index_str_to_date().index, method = 'ffill')\n",
    "\n",
    "report = sim(position=position, fee_ratio= 1.425/1000/3, stop_loss = 0.1, upload = False,\n",
    "             name= '本益成長比', live_performance_start='2024-09-05')"
   ]
  },
  {
   "cell_type": "code",
   "execution_count": null,
   "metadata": {},
   "outputs": [],
   "source": [
    "from finlab.online.order_executor import Position\n",
    "from finlab.online.order_executor import OrderExecutor"
   ]
  },
  {
   "cell_type": "code",
   "execution_count": null,
   "metadata": {},
   "outputs": [],
   "source": [
    "#設定資金及是否零股交易\n",
    "position = Position.from_report(report, 30000, odd_lot = True)"
   ]
  },
  {
   "cell_type": "code",
   "execution_count": null,
   "metadata": {},
   "outputs": [],
   "source": [
    "orderExecutor = OrderExecutor(position, account= acc)"
   ]
  },
  {
   "cell_type": "code",
   "execution_count": null,
   "metadata": {},
   "outputs": [],
   "source": [
    "orderExecutor.create_orders()"
   ]
  },
  {
   "cell_type": "code",
   "execution_count": 22,
   "metadata": {},
   "outputs": [],
   "source": [
    "orderExecutor.update_order_price()"
   ]
  },
  {
   "cell_type": "code",
   "execution_count": null,
   "metadata": {},
   "outputs": [],
   "source": [
    "orderExecutor.cancel_orders()"
   ]
  }
 ],
 "metadata": {
  "kernelspec": {
   "display_name": "Python 3",
   "language": "python",
   "name": "python3"
  },
  "language_info": {
   "codemirror_mode": {
    "name": "ipython",
    "version": 3
   },
   "file_extension": ".py",
   "mimetype": "text/x-python",
   "name": "python",
   "nbconvert_exporter": "python",
   "pygments_lexer": "ipython3",
   "version": "3.8.0"
  }
 },
 "nbformat": 4,
 "nbformat_minor": 2
}
