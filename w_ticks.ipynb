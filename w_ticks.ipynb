{
 "cells": [
  {
   "cell_type": "code",
   "execution_count": 21,
   "metadata": {},
   "outputs": [],
   "source": [
    "import time\n",
    "import sqlite3\n",
    "import requests\n",
    "import datetime\n",
    "\n",
    "import pandas as pd\n",
    "import shioaji as sj\n",
    "import re\n",
    "from shioaji import TickFOPv1, Exchange\n",
    "from exchange_calendars import get_calendar\n",
    "\n",
    "import mplfinance as mpf\n"
   ]
  },
  {
   "cell_type": "code",
   "execution_count": 22,
   "metadata": {},
   "outputs": [
    {
     "name": "stdout",
     "output_type": "stream",
     "text": [
      "Response Code: 0 | Event Code: 0 | Info: host '203.66.91.161:80', hostname '203.66.91.161:80' IP 203.66.91.161:80 (host 1 of 1) (host connection attempt 1 of 1) (total connection attempt 1 of 1) | Event: Session up\n",
      "<SecurityType.Index: 'IND'> fetch done\n",
      "<SecurityType.Stock: 'STK'> fetch done\n",
      "<SecurityType.Future: 'FUT'> fetch done\n",
      "<SecurityType.Option: 'OPT'> fetch done\n"
     ]
    }
   ],
   "source": [
    "import os \n",
    "import shioaji as sj\n",
    "from dotenv import load_dotenv\n",
    "\n",
    "#永豐金API登入\n",
    "load_dotenv()\n",
    "api = sj.Shioaji(simulation=True)\n",
    "api.login(os.getenv('YOUR_PERSON_ID'),os.getenv('YOUR_PASSWORD'),\n",
    "    contracts_cb= lambda security_type: print(f\"{repr(security_type)} fetch done\"))\n",
    "\n",
    "#連結DB Browser\n",
    "connection = sqlite3.connect('work_data.db')"
   ]
  },
  {
   "cell_type": "markdown",
   "metadata": {},
   "source": [
    "get_ticks() <br>\n",
    "抓取指定日期及前三日中的Ticks並更新至資料庫 <br>"
   ]
  },
  {
   "cell_type": "code",
   "execution_count": 31,
   "metadata": {},
   "outputs": [],
   "source": [
    "def get_ticks(connection, api, date, codes = str, is_Futures = False):\n",
    "    print(date)\n",
    "\n",
    "    dates = pd.to_datetime(date)\n",
    "    tw_calendar = get_calendar('XTAI')\n",
    "    if date not in tw_calendar.opens:\n",
    "        print('{} is not trading date'.format(date))\n",
    "\n",
    "    if is_Futures:\n",
    "        \n",
    "        #若為期貨只取英文代號作為code name\n",
    "        code = ''.join(char for char in codes if char.isalpha())\n",
    "\n",
    "        if dates.hour > 15:\n",
    "            date = dates.date()+datetime.timedelta(days=1)\n",
    "        \n",
    "        else:\n",
    "            date = dates.date()\n",
    "\n",
    "        prev_trading_date = tw_calendar.sessions_window(date,-3)\n",
    "        for trading_date in prev_trading_date:\n",
    "            if trading_date.weekday() == 5:\n",
    "                trading_dates = trading_date+datetime.timedelta(days=1)\n",
    "                prev_trading_date = prev_trading_date.append(trading_dates)\n",
    "\n",
    "    else:\n",
    "        code = codes\n",
    "        date = dates.date()\n",
    "        \n",
    "        prev_trading_date = tw_calendar.sessions_window(date,-3)\n",
    "\n",
    "\n",
    "    #儲存 Total Data\n",
    "    main_df = pd.DataFrame()\n",
    "\n",
    "    for trading_date in prev_trading_date:\n",
    "    #檢查是否為固有資料        \n",
    "        try:        \n",
    "            sql = \"SELECT * FROM ticks WHERE code = '{}' and ts BETWEEN '{}' AND '{}' \".format(code,\n",
    "                                                                                        trading_date,\n",
    "                                                                                        trading_date+datetime.timedelta(days=1))\n",
    "            df = pd.read_sql(sql, connection, parse_dates = ['ts'], index_col=['ts'])\n",
    "        except:\n",
    "            df = pd.DataFrame()\n",
    "\n",
    "        #若已有資料，直接回傳dataframe    \n",
    "        if (not df.empty):\n",
    "            main_df = pd.concat([main_df, df], sort=False)\n",
    "        \n",
    "        else:\n",
    "            print(f'Fetching missing data for {trading_date.strftime(\"%Y-%m-%d\")}')\n",
    "\n",
    "            #若資料不存在，利用永豐API獲取 \n",
    "            if is_Futures: #若為期貨\n",
    "                ticks = api.ticks(\n",
    "                    contract = api.Contracts.Futures.get(code)[codes],  # For futures, use the Futures contract\n",
    "                    date=date.strftime('%Y-%m-%d') \n",
    "                    )\n",
    "\n",
    "            else: #若為證券\n",
    "                ticks = api.ticks(\n",
    "                    contract=api.Contracts.Stocks[codes],  # For stocks, use the Stocks contract\n",
    "                    date=date.strftime('%Y-%m-%d')\n",
    "                )\n",
    "\n",
    "            temp_df = pd.DataFrame({**ticks})\n",
    "            temp_df.ts = pd.to_datetime(temp_df.ts)\n",
    "            temp_df['code'] = code\n",
    "            temp_df = temp_df.set_index('ts')\n",
    "        \n",
    "            main_df = pd.concat([main_df, temp_df], sort= False)\n",
    "\n",
    "    if not main_df.empty:\n",
    "        main_df = main_df.reset_index().drop_duplicates(subset='ts').set_index('ts').sort_index()\n",
    "        main_df = main_df.sort_index()\n",
    "        main_df.to_sql('ticks', connection, if_exists='append')\n",
    "        \n",
    "    return main_df, False"
   ]
  },
  {
   "cell_type": "code",
   "execution_count": 32,
   "metadata": {},
   "outputs": [
    {
     "name": "stdout",
     "output_type": "stream",
     "text": [
      "2024-10-02 00:00:00\n"
     ]
    }
   ],
   "source": [
    "codes = 'TMF202410'\n",
    "date = pd.to_datetime('2024-10-2')\n",
    "\n",
    "df = get_ticks(connection, api, date, codes, True)"
   ]
  },
  {
   "cell_type": "markdown",
   "metadata": {},
   "source": [
    "禮拜五下午的交易資料怎麼取得"
   ]
  },
  {
   "cell_type": "code",
   "execution_count": 12,
   "metadata": {},
   "outputs": [],
   "source": [
    "#獲取ticks資料並更新資料庫(DB)\n",
    "\"\"\"\n",
    "def update_ticks(connection, api, date, codes = str, is_Futures = False):\n",
    "\n",
    "    main_df = pd.DataFrame()\n",
    "\n",
    "    dates = pd.to_datetime(date)\n",
    "    tw_calendar = get_calendar('XTAI')\n",
    "\n",
    "    if dates.hour > 15:\n",
    "        date = dates.date()+datetime.timedelta(days=1)\n",
    "        print(date)\n",
    "\n",
    "    else:\n",
    "        date = dates.date()\n",
    "\n",
    "\n",
    "    df, in_db = get_ticks(connection, api, date, codes , is_Futures)\n",
    "  \n",
    "    if df is not None and not in_db:\n",
    "        main_df = pd.concat([main_df, df], sort = False, axis = 0)\n",
    "        time.sleep(1)\n",
    "    \n",
    "'''\n",
    "    #好像跟get_ticks的功能重複\n",
    "    prev_trading_date = tw_calendar.sessions_window(date,-3)\n",
    "    for prev_date in prev_trading_date:\n",
    "        print('正在更新{}:{}的逐筆成交資料'.format(prev_date.strftime('%Y-%m-%d'), codes))\n",
    "        prev_df, prev_in_db = get_ticks(connection, api, prev_date, codes, is_Futures)\n",
    "\n",
    "        if prev_df is not None and not prev_in_db:\n",
    "            main_df = pd.concat([main_df, prev_df], sort = False)\n",
    "            time.sleep(1)\n",
    "'''\n",
    "        \n",
    "    if not main_df.empty:\n",
    "        main_df = main_df.reset_index().drop_duplicates().set_index('ts')\n",
    "        main_df = main_df.sort_index()\n",
    "        main_df.to_sql('ticks', connection, if_exists='append')\n",
    "        \n",
    "    return main_df if not main_df.empty else None\n",
    "\n",
    "    \"\"\""
   ]
  },
  {
   "cell_type": "code",
   "execution_count": null,
   "metadata": {},
   "outputs": [],
   "source": [
    "codes = 'TMF202410'\n",
    "date = '2024-10-01'\n",
    "\n",
    "update_ticks(connection, api, date, codes, True)"
   ]
  },
  {
   "cell_type": "code",
   "execution_count": null,
   "metadata": {},
   "outputs": [],
   "source": [
    "ticks"
   ]
  },
  {
   "cell_type": "markdown",
   "metadata": {},
   "source": [
    "Kbars"
   ]
  },
  {
   "cell_type": "code",
   "execution_count": 7,
   "metadata": {},
   "outputs": [],
   "source": [
    "#將ticks轉換成kbar\n",
    "def ticks_to_kbars(ticks, interval = '30Min'):\n",
    "\n",
    "    kbars = pd.DataFrame()\n",
    "\n",
    "    kbars['open'] = ticks['close'].resample(interval, closed='right', label = 'left').first()\n",
    "    kbars['close'] = ticks['close'].resample(interval, closed='right', label = 'left').last()\n",
    "    kbars['high'] = ticks['close'].resample(interval, closed='right', label = 'left').max()\n",
    "    kbars['low'] = ticks['close'].resample(interval, closed='right', label = 'left').min()\n",
    "    kbars['volume'] = ticks['volume'].resample(interval, closed='right', label = 'left').sum()\n",
    "\n",
    "    kbars.dropna(inplace=True)\n",
    "\n",
    "    return kbars"
   ]
  },
  {
   "cell_type": "code",
   "execution_count": 15,
   "metadata": {},
   "outputs": [],
   "source": [
    "code = 'TMF202410'\n",
    "date = pd.to_datetime('2024/9/19')\n",
    "ticks = get_ticks(connection, api, date, code , True)[0]\n",
    "ticks\n",
    "kbars=ticks_to_kbars(ticks, '30MIN')"
   ]
  },
  {
   "cell_type": "code",
   "execution_count": null,
   "metadata": {},
   "outputs": [],
   "source": [
    "marketcolors = mpf.make_marketcolors(up = '#E9544E',down='#56B475', inherit = True)\n",
    "style = mpf.make_mpf_style(base_mpf_style = 'yahoo', marketcolors = marketcolors)\n",
    "\n",
    "\n",
    "mpf.plot(kbars, \n",
    "         title = '{}, {}'.format(code, date.date()), \n",
    "         type = 'candle',\n",
    "         style = style,\n",
    "         volume = True,\n",
    "         figsize = (14,8)\n",
    ")"
   ]
  },
  {
   "cell_type": "markdown",
   "metadata": {},
   "source": [
    "即時報價"
   ]
  },
  {
   "cell_type": "code",
   "execution_count": 7,
   "metadata": {},
   "outputs": [],
   "source": [
    "ticks = {}\n",
    "kbars = {}\n",
    "volume_today = {}"
   ]
  },
  {
   "cell_type": "code",
   "execution_count": null,
   "metadata": {},
   "outputs": [],
   "source": [
    "ticks"
   ]
  },
  {
   "cell_type": "code",
   "execution_count": 9,
   "metadata": {},
   "outputs": [],
   "source": [
    "import time\n",
    "\n",
    "#tbot0: 更新當日及前三日ticks資料\n",
    "\n",
    "def tbot0(codes, is_Futures = False):\n",
    "\n",
    "    print('--- 啟動 Tbot for {} ---'.format(codes))\n",
    "\n",
    "\n",
    "    tw_calendar = get_calendar('XTAI')\n",
    "\n",
    "    date = pd.to_datetime(datetime.datetime.now().date())\n",
    "\n",
    "    #若非交易日，直接回傳\n",
    "    if date not in tw_calendar.opens:\n",
    "        print('今日非交易日')\n",
    "        return\n",
    "\n",
    "    prev_trading_dates = tw_calendar.sessions_window(date, -1)[0]\n",
    "\n",
    "    if is_Futures:\n",
    "        code = ''.join(char for char in codes if char.isalpha())\n",
    "    else:\n",
    "        code = codes\n",
    "    ticks[code] = get_ticks(connection, api, date, codes , is_Futures )[0]\n",
    "    ticks[code] = ticks[code][['close','volume']]\n",
    "    kbars[code] = ticks_to_kbars(ticks[code], interval='1Min')\n",
    "    kbars[code] = kbars[code][prev_trading_dates:]\n",
    "    volume_today[code] = kbars[code]['volume'].sum()\n",
    "\n",
    "    api.quote.subscribe(api.Contracts.Futures.TMF['TMF202410'], quote_type='tick',\n",
    "                    version = sj.constant.QuoteVersion.v1\n",
    "    )\n",
    "\n",
    "    return ticks\n"
   ]
  },
  {
   "cell_type": "code",
   "execution_count": null,
   "metadata": {},
   "outputs": [],
   "source": [
    "code = 'TMF202410'\n",
    "tbot0(code, True)"
   ]
  },
  {
   "cell_type": "code",
   "execution_count": null,
   "metadata": {},
   "outputs": [],
   "source": [
    "ticks\n",
    "kbars\n",
    "#volume_today"
   ]
  },
  {
   "cell_type": "code",
   "execution_count": null,
   "metadata": {},
   "outputs": [],
   "source": [
    "api.quote.subscribe(api.Contracts.Futures.TMF['TMF202410'], quote_type='tick',\n",
    "                    version = sj.constant.QuoteVersion.v1\n",
    ")"
   ]
  },
  {
   "cell_type": "code",
   "execution_count": null,
   "metadata": {},
   "outputs": [],
   "source": [
    "ticks\n",
    "#ticks[code]\n",
    "kbars\n",
    "#kbars[code]\n",
    "#volume_today"
   ]
  },
  {
   "cell_type": "code",
   "execution_count": null,
   "metadata": {},
   "outputs": [],
   "source": [
    "api.quote.unsubscribe(\n",
    "    api.Contracts.Futures.TMF['TMF202410'],\n",
    "    quote_type = sj.constant.QuoteType.Tick,\n",
    "    version = sj.constant.QuoteVersion.v1\n",
    ")"
   ]
  },
  {
   "cell_type": "code",
   "execution_count": 12,
   "metadata": {},
   "outputs": [],
   "source": [
    "#設定callback 回傳資料型態\n",
    "@api.on_tick_fop_v1()\n",
    "\n",
    "def quote_callback(exchange: Exchange, tick: TickFOPv1):\n",
    "\n",
    "    ts = pd.to_datetime(tick.datetime)\n",
    "\n",
    "    if tick.code[0].isalpha():\n",
    "        tick.datetime\n",
    "        code = tick.code[0:3]\n",
    "    else:\n",
    "        code = tick.code\n",
    "\n",
    "    ts = pd.to_datetime(tick.datetime)\n",
    "\n",
    "    if 5 < ts.hour < 9:\n",
    "        return\n",
    "    \n",
    "    close = float(tick.close)\n",
    "    volume = tick.volume\n",
    "    vol_sum = tick.total_volume\n",
    "\n",
    "    \n",
    "    ticks[code].loc[ts] = [close, volume]\n",
    "    volume_today[code] = vol_sum"
   ]
  },
  {
   "cell_type": "code",
   "execution_count": 8,
   "metadata": {},
   "outputs": [],
   "source": [
    "import time\n",
    "\n",
    "#tbot: 加入即時訂閱，即時更新tick資料\n",
    "def tbot(codes, is_Futures = False):\n",
    "\n",
    "    print('--- 啟動 Tbot for {} ---'.format(codes))\n",
    "\n",
    "    ticks = {}\n",
    "    kbars = {}\n",
    "    volume_today = {}\n",
    "\n",
    "    tw_calendar = get_calendar('XTAI')\n",
    "\n",
    "    date = pd.to_datetime(datetime.datetime.now().date())\n",
    "\n",
    "    if date not in tw_calendar.opens:\n",
    "        print('今日非交易日')\n",
    "        return\n",
    "\n",
    "    prev_trading_dates = tw_calendar.sessions_window(date, -4)[0]\n",
    "\n",
    "    if is_Futures:\n",
    "        code = ''.join(char for char in codes if char.isalpha())\n",
    "    else:\n",
    "        code = codes\n",
    "    \n",
    "    ticks[code] = get_ticks(connection, api, date, codes , is_Futures )[0]\n",
    "    ticks[code] = ticks[code][['close','volume']]\n",
    "    kbars[code] = ticks_to_kbars(ticks[code], interval='1Min')\n",
    "    kbars[code] = kbars[code][prev_trading_dates:]\n",
    "    volume_today[code] = kbars[code]['volume'].sum()\n",
    "    print(kbars)\n",
    "\n",
    "\n",
    "    if is_Futures:\n",
    "        api.quote.subscribe(api.Contracts.Futures.get(codes[0:3])[codes], \n",
    "                            quote_type= 'tick',\n",
    "                            version = sj.constant.QuoteVersion.v1 \n",
    "                            )\n",
    "        while True:\n",
    "\n",
    "            time.sleep(1)\n",
    "\n",
    "            current_time = datetime.datetime.now()\n",
    "\n",
    "            if current_time.second == 0 :\n",
    "                print(ticks)\n",
    "\n",
    "                kbars[code] = ticks_to_kbars(ticks[code], interval='1Min')\n",
    "                kbars[code] = kbars[code][prev_trading_dates:]\n",
    "\n",
    "                str_current_time = (current_time - datetime.timedelta(minutes=1)).strftime('%Y-%m-%d %H:%M:%S')\n",
    "\n",
    "                try:\n",
    "                    current_kbars = kbars[code].loc[str_current_time]\n",
    "                except:\n",
    "                    continue\n",
    "\n",
    "                print(current_kbars)\n",
    "\n",
    "        \n",
    "\n",
    "    else:\n",
    "        api.quote.subscribe(api.Contracts.Stocks[codes],\n",
    "                            quote_type= 'tick',\n",
    "                            version = sj.constant.QuoteVersion.v1\n",
    "                            )\n",
    "    ##subscribed ticks can't concat into Original ticks !!!\n",
    "        while True:\n",
    "\n",
    "            time.sleep(1)\n",
    "\n",
    "            current_time = datetime.datetime.now()\n",
    "\n",
    "            if current_time.second == 0 :\n",
    "                print(ticks)\n",
    "\n",
    "                kbars[code] = ticks_to_kbars(ticks[code], interval='1Min')\n",
    "                kbars[code] = kbars[code][prev_trading_dates:]\n",
    "\n",
    "                str_current_time = (current_time - datetime.timedelta(minutes=1)).strftime('%Y-%m-%d %H:%M:%S')\n",
    "\n",
    "                try:\n",
    "                    current_kbars = kbars[code].loc[str_current_time]\n",
    "                except:\n",
    "                    continue\n",
    "\n",
    "                print(current_kbars)\n"
   ]
  },
  {
   "cell_type": "code",
   "execution_count": null,
   "metadata": {},
   "outputs": [],
   "source": [
    "tbot('TMF202410', True)"
   ]
  },
  {
   "cell_type": "code",
   "execution_count": null,
   "metadata": {},
   "outputs": [],
   "source": [
    "api.quote.unsubscribe(\n",
    "    api.Contracts.Futures.TMF['TMF202410'],\n",
    "    quote_type = sj.constant.QuoteType.Tick,\n",
    "    version = sj.constant.QuoteVersion.v1\n",
    ")"
   ]
  },
  {
   "cell_type": "code",
   "execution_count": null,
   "metadata": {},
   "outputs": [],
   "source": []
  }
 ],
 "metadata": {
  "kernelspec": {
   "display_name": "Python 3",
   "language": "python",
   "name": "python3"
  },
  "language_info": {
   "codemirror_mode": {
    "name": "ipython",
    "version": 3
   },
   "file_extension": ".py",
   "mimetype": "text/x-python",
   "name": "python",
   "nbconvert_exporter": "python",
   "pygments_lexer": "ipython3",
   "version": "3.8.0"
  }
 },
 "nbformat": 4,
 "nbformat_minor": 2
}
